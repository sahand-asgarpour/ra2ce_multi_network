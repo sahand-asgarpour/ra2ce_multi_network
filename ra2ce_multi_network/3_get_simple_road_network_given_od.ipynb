{
 "cells": [
  {
   "cell_type": "code",
   "execution_count": 2,
   "id": "2209da53",
   "metadata": {},
   "outputs": [
    {
     "name": "stderr",
     "output_type": "stream",
     "text": [
      "c:\\Users\\asgarpou\\AppData\\Local\\miniconda3\\envs\\ra2ce_multi_network_env\\lib\\site-packages\\geopandas\\_compat.py:124: UserWarning: The Shapely GEOS version (3.11.2-CAPI-1.17.2) is incompatible with the GEOS version PyGEOS was compiled with (3.10.4-CAPI-1.16.2). Conversions between both will be slow.\n",
      "  warnings.warn(\n",
      "C:\\Users\\asgarpou\\AppData\\Local\\Temp\\ipykernel_22456\\4176253495.py:6: DeprecationWarning: Shapely 2.0 is installed, but because PyGEOS is also installed, GeoPandas still uses PyGEOS by default. However, starting with version 0.14, the default will switch to Shapely. To force to use Shapely 2.0 now, you can either uninstall PyGEOS or set the environment variable USE_PYGEOS=0. You can do this before starting the Python process, or in your code before importing geopandas:\n",
      "\n",
      "import os\n",
      "os.environ['USE_PYGEOS'] = '0'\n",
      "import geopandas\n",
      "\n",
      "In the next release, GeoPandas will switch to using Shapely by default, even if PyGEOS is installed. If you only have PyGEOS installed to get speed-ups, this switch should be smooth. However, if you are using PyGEOS directly (calling PyGEOS functions on geometries from GeoPandas), this will then stop working and you are encouraged to migrate from PyGEOS to Shapely 2.0 (https://shapely.readthedocs.io/en/latest/migration_pygeos.html).\n",
      "  import geopandas as gpd\n"
     ]
    }
   ],
   "source": [
    "import sys\n",
    "\n",
    "sys.path.append(r'C:\\repos\\ra2ce_multi_network') # path to the package\n",
    "sys.path.append(r'C:\\repos\\ra2ce') # path to the package\n",
    "\n",
    "import geopandas as gpd\n",
    "import pickle\n",
    "\n",
    "import pyproj\n",
    "from networkx import MultiDiGraph\n",
    "from pathlib import Path\n",
    "from snkit import Network\n",
    "\n",
    "from ra2ce.graph.exporters.multi_graph_network_exporter import MultiGraphNetworkExporter\n",
    "from ra2ce.graph.exporters.network_exporter_base import NetworkExporterBase\n",
    "from ra2ce.graph.network_config_data.network_config_data import NetworkConfigData, NetworkSection\n",
    "from ra2ce.graph.network_wrappers.osm_network_wrapper.osm_network_wrapper import OsmNetworkWrapper\n",
    "from ra2ce.graph.origins_destinations import add_od_nodes\n",
    "from ra2ce_multi_network.simplify_rail import _nx_to_network, _network_to_nx\n",
    "import ra2ce.graph.networks_utils as nut"
   ]
  },
  {
   "cell_type": "code",
   "execution_count": 3,
   "id": "db35b739",
   "metadata": {},
   "outputs": [],
   "source": [
    "# Defining ini variables\n",
    "root_folder = Path(\n",
    "    r'C:\\Users\\asgarpou\\OneDrive - Stichting Deltares\\Documents\\Projects\\Long involvement\\SITO_Netwerk to system\\project_files\\get_shortest_routes_road')\n",
    "study_area_suffix = '_GR'\n",
    "output_name = f'study_area{study_area_suffix}'\n",
    "polygon_path = root_folder.joinpath(f'static/network/polygon{study_area_suffix}.geojson')\n",
    "od_file = root_folder.joinpath('static/network/od_nodes.geojson')"
   ]
  },
  {
   "cell_type": "code",
   "execution_count": null,
   "id": "ac789cd4",
   "metadata": {},
   "outputs": [],
   "source": [
    "# Load complex graph\n",
    "\n",
    "od_gdf = gpd.read_file(od_file)\n",
    "\n",
    "with open(root_folder.joinpath(f'static/output_graph/road_complex_graph_origin_destinations_mapped_{output_name}.p'), 'rb') as f:\n",
    "    complex_graph = pickle.load(f)"
   ]
  },
  {
   "cell_type": "code",
   "execution_count": null,
   "id": "de6bc593",
   "metadata": {},
   "outputs": [],
   "source": [
    "# Simplify complex graph => get_network procedure\n",
    "\n",
    "# simple_graph, complex_graph, link_tables = nut.create_simplified_graph(complex_graph)\n",
    "\n",
    "# Save the link tables linking complex and simple IDs\n",
    "\n",
    "# osm_network_wrapper._export_linking_tables(link_tables)\n",
    "# if not osm_network_wrapper.is_directed and isinstance(simple_graph, MultiDiGraph):\n",
    "#     simple_graph = simple_graph.to_undirected()\n",
    "\n",
    "# Check if all geometries between nodes are there, if not, add them as a straight line.\n",
    "\n",
    "# simple_graph = nut.add_missing_geoms_graph(simple_graph, geom_name=\"geometry\")\n",
    "# simple_graph.graph[\"crs\"] = pyproj.CRS(\"EPSG:4326\")"
   ]
  },
  {
   "cell_type": "code",
   "execution_count": 23,
   "id": "49685e07",
   "metadata": {},
   "outputs": [],
   "source": [
    "# Map origin-destinations the simple graphs\n",
    "\n",
    "# simple_graph = add_od_nodes(od=gpd.read_file(od_file), graph=simple_graph, crs=pyproj.CRS(\"EPSG:4326\"))[1]"
   ]
  },
  {
   "cell_type": "code",
   "execution_count": null,
   "id": "4d59f204",
   "metadata": {},
   "outputs": [],
   "source": [
    "# Save the outputs\n",
    "\n",
    "# od_gdf.to_file(od_file, driver=\"GeoJSON\")\n",
    "\n",
    "# simple_graph_exporter = MultiGraphNetworkExporter(\n",
    "#     basename=f'road_simple_graph_origin_destinations_mapped_{output_name}',\n",
    "#     export_types=['pickle', 'shp'])\n",
    "# simple_graph_exporter.export_to_shp(output_dir=root_folder.joinpath(f'static/output_graph'),\n",
    "#                                     export_data=simple_graph)\n",
    "# simple_graph_exporter.export_to_pickle(output_dir=root_folder.joinpath(f'static/output_graph'),\n",
    "#                                        export_data=simple_graph)"
   ]
  },
  {
   "cell_type": "code",
   "execution_count": 14,
   "id": "09510311",
   "metadata": {},
   "outputs": [],
   "source": [
    "# Load graphs and networks prepared befor\n",
    "\n",
    "od_gdf = gpd.read_file(od_file)\n",
    "\n",
    "with open(root_folder.joinpath(f'static/output_graph/road_simple_graph_origin_destinations_mapped_{output_name}.p'), 'rb') as f:\n",
    "    simple_graph = pickle.load(f)\n",
    "\n",
    "simple_road_network = Network(\n",
    "        nodes=_nx_to_network(simple_graph).nodes,\n",
    "        edges=_nx_to_network(simple_graph).edges\n",
    "    )"
   ]
  },
  {
   "cell_type": "code",
   "execution_count": 4,
   "id": "2429dfa5",
   "metadata": {},
   "outputs": [
    {
     "ename": "DriverError",
     "evalue": "C:\\Users\\asgarpou\\OneDrive - Stichting Deltares\\Documents\\Projects\\Long involvement\\SITO_Netwerk to system\\project_files\\get_shortest_routes_road\\road_complex_graph_origin_destinations_mapped_study_area_GR_nodes.gpkg: No such file or directory",
     "output_type": "error",
     "traceback": [
      "\u001b[1;31m---------------------------------------------------------------------------\u001b[0m",
      "\u001b[1;31mCPLE_OpenFailedError\u001b[0m                      Traceback (most recent call last)",
      "File \u001b[1;32mfiona\\ogrext.pyx:136\u001b[0m, in \u001b[0;36mfiona.ogrext.gdal_open_vector\u001b[1;34m()\u001b[0m\n",
      "File \u001b[1;32mfiona\\_err.pyx:291\u001b[0m, in \u001b[0;36mfiona._err.exc_wrap_pointer\u001b[1;34m()\u001b[0m\n",
      "\u001b[1;31mCPLE_OpenFailedError\u001b[0m: C:\\Users\\asgarpou\\OneDrive - Stichting Deltares\\Documents\\Projects\\Long involvement\\SITO_Netwerk to system\\project_files\\get_shortest_routes_road\\road_complex_graph_origin_destinations_mapped_study_area_GR_nodes.gpkg: No such file or directory",
      "\nDuring handling of the above exception, another exception occurred:\n",
      "\u001b[1;31mDriverError\u001b[0m                               Traceback (most recent call last)",
      "\u001b[1;32mc:\\repos\\ra2ce_multi_network\\ra2ce_multi_network\\2_get_complex_road_network_given_od.ipynb Cell 9\u001b[0m line \u001b[0;36m4\n\u001b[0;32m      <a href='vscode-notebook-cell:/c%3A/repos/ra2ce_multi_network/ra2ce_multi_network/2_get_complex_road_network_given_od.ipynb#X14sZmlsZQ%3D%3D?line=0'>1</a>\u001b[0m \u001b[39m# Load graphs and networks prepared befor\u001b[39;00m\n\u001b[0;32m      <a href='vscode-notebook-cell:/c%3A/repos/ra2ce_multi_network/ra2ce_multi_network/2_get_complex_road_network_given_od.ipynb#X14sZmlsZQ%3D%3D?line=2'>3</a>\u001b[0m complex_road_network \u001b[39m=\u001b[39m Network(\n\u001b[1;32m----> <a href='vscode-notebook-cell:/c%3A/repos/ra2ce_multi_network/ra2ce_multi_network/2_get_complex_road_network_given_od.ipynb#X14sZmlsZQ%3D%3D?line=3'>4</a>\u001b[0m     nodes\u001b[39m=\u001b[39mgpd\u001b[39m.\u001b[39;49mread_file(root_folder\u001b[39m.\u001b[39;49mjoinpath(\u001b[39mf\u001b[39;49m\u001b[39m'\u001b[39;49m\u001b[39mroad_complex_graph_origin_destinations_mapped_\u001b[39;49m\u001b[39m{\u001b[39;49;00moutput_name\u001b[39m}\u001b[39;49;00m\u001b[39m_nodes.gpkg\u001b[39;49m\u001b[39m'\u001b[39;49m)),\n\u001b[0;32m      <a href='vscode-notebook-cell:/c%3A/repos/ra2ce_multi_network/ra2ce_multi_network/2_get_complex_road_network_given_od.ipynb#X14sZmlsZQ%3D%3D?line=4'>5</a>\u001b[0m     edges\u001b[39m=\u001b[39mgpd\u001b[39m.\u001b[39mread_file(root_folder\u001b[39m.\u001b[39mjoinpath(\u001b[39mf\u001b[39m\u001b[39m'\u001b[39m\u001b[39mroad_complex_graph_origin_destinations_mapped_\u001b[39m\u001b[39m{\u001b[39;00moutput_name\u001b[39m}\u001b[39;00m\u001b[39m_edges.gpkg\u001b[39m\u001b[39m'\u001b[39m))\n\u001b[0;32m      <a href='vscode-notebook-cell:/c%3A/repos/ra2ce_multi_network/ra2ce_multi_network/2_get_complex_road_network_given_od.ipynb#X14sZmlsZQ%3D%3D?line=5'>6</a>\u001b[0m )\n\u001b[0;32m      <a href='vscode-notebook-cell:/c%3A/repos/ra2ce_multi_network/ra2ce_multi_network/2_get_complex_road_network_given_od.ipynb#X14sZmlsZQ%3D%3D?line=7'>8</a>\u001b[0m simple_road_network \u001b[39m=\u001b[39m Network(\n\u001b[0;32m      <a href='vscode-notebook-cell:/c%3A/repos/ra2ce_multi_network/ra2ce_multi_network/2_get_complex_road_network_given_od.ipynb#X14sZmlsZQ%3D%3D?line=8'>9</a>\u001b[0m     nodes\u001b[39m=\u001b[39mgpd\u001b[39m.\u001b[39mread_file(root_folder\u001b[39m.\u001b[39mjoinpath(\u001b[39mf\u001b[39m\u001b[39m'\u001b[39m\u001b[39mroad_simple_graph_origin_destinations_mapped_\u001b[39m\u001b[39m{\u001b[39;00moutput_name\u001b[39m}\u001b[39;00m\u001b[39m_nodes.gpkg\u001b[39m\u001b[39m'\u001b[39m)),\n\u001b[0;32m     <a href='vscode-notebook-cell:/c%3A/repos/ra2ce_multi_network/ra2ce_multi_network/2_get_complex_road_network_given_od.ipynb#X14sZmlsZQ%3D%3D?line=9'>10</a>\u001b[0m     edges\u001b[39m=\u001b[39mgpd\u001b[39m.\u001b[39mread_file(root_folder\u001b[39m.\u001b[39mjoinpath(\u001b[39mf\u001b[39m\u001b[39m'\u001b[39m\u001b[39mroad_simple_graph_origin_destinations_mapped_\u001b[39m\u001b[39m{\u001b[39;00moutput_name\u001b[39m}\u001b[39;00m\u001b[39m_edges.gpkg\u001b[39m\u001b[39m'\u001b[39m))\n\u001b[0;32m     <a href='vscode-notebook-cell:/c%3A/repos/ra2ce_multi_network/ra2ce_multi_network/2_get_complex_road_network_given_od.ipynb#X14sZmlsZQ%3D%3D?line=10'>11</a>\u001b[0m )\n",
      "File \u001b[1;32mc:\\Users\\asgarpou\\AppData\\Local\\miniconda3\\envs\\ra2ce_multi_network_env\\lib\\site-packages\\geopandas\\io\\file.py:281\u001b[0m, in \u001b[0;36m_read_file\u001b[1;34m(filename, bbox, mask, rows, engine, **kwargs)\u001b[0m\n\u001b[0;32m    278\u001b[0m     \u001b[39melse\u001b[39;00m:\n\u001b[0;32m    279\u001b[0m         path_or_bytes \u001b[39m=\u001b[39m filename\n\u001b[1;32m--> 281\u001b[0m     \u001b[39mreturn\u001b[39;00m _read_file_fiona(\n\u001b[0;32m    282\u001b[0m         path_or_bytes, from_bytes, bbox\u001b[39m=\u001b[39mbbox, mask\u001b[39m=\u001b[39mmask, rows\u001b[39m=\u001b[39mrows, \u001b[39m*\u001b[39m\u001b[39m*\u001b[39mkwargs\n\u001b[0;32m    283\u001b[0m     )\n\u001b[0;32m    285\u001b[0m \u001b[39melse\u001b[39;00m:\n\u001b[0;32m    286\u001b[0m     \u001b[39mraise\u001b[39;00m \u001b[39mValueError\u001b[39;00m(\u001b[39mf\u001b[39m\u001b[39m\"\u001b[39m\u001b[39munknown engine \u001b[39m\u001b[39m'\u001b[39m\u001b[39m{\u001b[39;00mengine\u001b[39m}\u001b[39;00m\u001b[39m'\u001b[39m\u001b[39m\"\u001b[39m)\n",
      "File \u001b[1;32mc:\\Users\\asgarpou\\AppData\\Local\\miniconda3\\envs\\ra2ce_multi_network_env\\lib\\site-packages\\geopandas\\io\\file.py:322\u001b[0m, in \u001b[0;36m_read_file_fiona\u001b[1;34m(path_or_bytes, from_bytes, bbox, mask, rows, where, **kwargs)\u001b[0m\n\u001b[0;32m    319\u001b[0m     reader \u001b[39m=\u001b[39m fiona\u001b[39m.\u001b[39mopen\n\u001b[0;32m    321\u001b[0m \u001b[39mwith\u001b[39;00m fiona_env():\n\u001b[1;32m--> 322\u001b[0m     \u001b[39mwith\u001b[39;00m reader(path_or_bytes, \u001b[39m*\u001b[39m\u001b[39m*\u001b[39mkwargs) \u001b[39mas\u001b[39;00m features:\n\u001b[0;32m    323\u001b[0m         crs \u001b[39m=\u001b[39m features\u001b[39m.\u001b[39mcrs_wkt\n\u001b[0;32m    324\u001b[0m         \u001b[39m# attempt to get EPSG code\u001b[39;00m\n",
      "File \u001b[1;32mc:\\Users\\asgarpou\\AppData\\Local\\miniconda3\\envs\\ra2ce_multi_network_env\\lib\\site-packages\\fiona\\env.py:457\u001b[0m, in \u001b[0;36mensure_env_with_credentials.<locals>.wrapper\u001b[1;34m(*args, **kwds)\u001b[0m\n\u001b[0;32m    454\u001b[0m     session \u001b[39m=\u001b[39m DummySession()\n\u001b[0;32m    456\u001b[0m \u001b[39mwith\u001b[39;00m env_ctor(session\u001b[39m=\u001b[39msession):\n\u001b[1;32m--> 457\u001b[0m     \u001b[39mreturn\u001b[39;00m f(\u001b[39m*\u001b[39margs, \u001b[39m*\u001b[39m\u001b[39m*\u001b[39mkwds)\n",
      "File \u001b[1;32mc:\\Users\\asgarpou\\AppData\\Local\\miniconda3\\envs\\ra2ce_multi_network_env\\lib\\site-packages\\fiona\\__init__.py:292\u001b[0m, in \u001b[0;36mopen\u001b[1;34m(fp, mode, driver, schema, crs, encoding, layer, vfs, enabled_drivers, crs_wkt, allow_unsupported_drivers, **kwargs)\u001b[0m\n\u001b[0;32m    289\u001b[0m     path \u001b[39m=\u001b[39m parse_path(fp)\n\u001b[0;32m    291\u001b[0m \u001b[39mif\u001b[39;00m mode \u001b[39min\u001b[39;00m (\u001b[39m\"\u001b[39m\u001b[39ma\u001b[39m\u001b[39m\"\u001b[39m, \u001b[39m\"\u001b[39m\u001b[39mr\u001b[39m\u001b[39m\"\u001b[39m):\n\u001b[1;32m--> 292\u001b[0m     colxn \u001b[39m=\u001b[39m Collection(\n\u001b[0;32m    293\u001b[0m         path,\n\u001b[0;32m    294\u001b[0m         mode,\n\u001b[0;32m    295\u001b[0m         driver\u001b[39m=\u001b[39mdriver,\n\u001b[0;32m    296\u001b[0m         encoding\u001b[39m=\u001b[39mencoding,\n\u001b[0;32m    297\u001b[0m         layer\u001b[39m=\u001b[39mlayer,\n\u001b[0;32m    298\u001b[0m         enabled_drivers\u001b[39m=\u001b[39menabled_drivers,\n\u001b[0;32m    299\u001b[0m         allow_unsupported_drivers\u001b[39m=\u001b[39mallow_unsupported_drivers,\n\u001b[0;32m    300\u001b[0m         \u001b[39m*\u001b[39m\u001b[39m*\u001b[39mkwargs\n\u001b[0;32m    301\u001b[0m     )\n\u001b[0;32m    302\u001b[0m \u001b[39melif\u001b[39;00m mode \u001b[39m==\u001b[39m \u001b[39m\"\u001b[39m\u001b[39mw\u001b[39m\u001b[39m\"\u001b[39m:\n\u001b[0;32m    303\u001b[0m     colxn \u001b[39m=\u001b[39m Collection(\n\u001b[0;32m    304\u001b[0m         path,\n\u001b[0;32m    305\u001b[0m         mode,\n\u001b[1;32m   (...)\u001b[0m\n\u001b[0;32m    314\u001b[0m         \u001b[39m*\u001b[39m\u001b[39m*\u001b[39mkwargs\n\u001b[0;32m    315\u001b[0m     )\n",
      "File \u001b[1;32mc:\\Users\\asgarpou\\AppData\\Local\\miniconda3\\envs\\ra2ce_multi_network_env\\lib\\site-packages\\fiona\\collection.py:243\u001b[0m, in \u001b[0;36mCollection.__init__\u001b[1;34m(self, path, mode, driver, schema, crs, encoding, layer, vsi, archive, enabled_drivers, crs_wkt, ignore_fields, ignore_geometry, include_fields, wkt_version, allow_unsupported_drivers, **kwargs)\u001b[0m\n\u001b[0;32m    241\u001b[0m \u001b[39mif\u001b[39;00m \u001b[39mself\u001b[39m\u001b[39m.\u001b[39mmode \u001b[39m==\u001b[39m \u001b[39m\"\u001b[39m\u001b[39mr\u001b[39m\u001b[39m\"\u001b[39m:\n\u001b[0;32m    242\u001b[0m     \u001b[39mself\u001b[39m\u001b[39m.\u001b[39msession \u001b[39m=\u001b[39m Session()\n\u001b[1;32m--> 243\u001b[0m     \u001b[39mself\u001b[39m\u001b[39m.\u001b[39msession\u001b[39m.\u001b[39mstart(\u001b[39mself\u001b[39m, \u001b[39m*\u001b[39m\u001b[39m*\u001b[39mkwargs)\n\u001b[0;32m    244\u001b[0m \u001b[39melif\u001b[39;00m \u001b[39mself\u001b[39m\u001b[39m.\u001b[39mmode \u001b[39min\u001b[39;00m (\u001b[39m\"\u001b[39m\u001b[39ma\u001b[39m\u001b[39m\"\u001b[39m, \u001b[39m\"\u001b[39m\u001b[39mw\u001b[39m\u001b[39m\"\u001b[39m):\n\u001b[0;32m    245\u001b[0m     \u001b[39mself\u001b[39m\u001b[39m.\u001b[39msession \u001b[39m=\u001b[39m WritingSession()\n",
      "File \u001b[1;32mfiona\\ogrext.pyx:588\u001b[0m, in \u001b[0;36mfiona.ogrext.Session.start\u001b[1;34m()\u001b[0m\n",
      "File \u001b[1;32mfiona\\ogrext.pyx:143\u001b[0m, in \u001b[0;36mfiona.ogrext.gdal_open_vector\u001b[1;34m()\u001b[0m\n",
      "\u001b[1;31mDriverError\u001b[0m: C:\\Users\\asgarpou\\OneDrive - Stichting Deltares\\Documents\\Projects\\Long involvement\\SITO_Netwerk to system\\project_files\\get_shortest_routes_road\\road_complex_graph_origin_destinations_mapped_study_area_GR_nodes.gpkg: No such file or directory"
     ]
    }
   ],
   "source": [
    "# Load graphs and networks prepared befor\n",
    "\n",
    "simple_road_network = Network(\n",
    "    nodes=gpd.read_file(root_folder.joinpath(f'static/output_graph/road_simple_graph_origin_destinations_mapped_{output_name}_nodes.gpkg')),\n",
    "    edges=gpd.read_file(root_folder.joinpath(f'static/output_graph/road_simple_graph_origin_destinations_mapped_{output_name}_edges.gpkg'))\n",
    ")"
   ]
  },
  {
   "cell_type": "code",
   "execution_count": 13,
   "id": "fc5d9304",
   "metadata": {},
   "outputs": [
    {
     "name": "stdout",
     "output_type": "stream",
     "text": [
      "<snkit.network.Network object at 0x00000206D438B400>\n"
     ]
    }
   ],
   "source": [
    "# Visualise\n",
    "\n",
    "road_map = simple_road_network.edges.explore(tiles=\"CartoDB positron\")\n",
    "road_map = od_gdf.explore(m=road_map, color='springgreen')\n",
    "simple_road_network.nodes[~simple_road_network.nodes['od_id'].isna()].explore(m=road_map, color='darkgreen')"
   ]
  }
 ],
 "metadata": {
  "kernelspec": {
   "display_name": "Python 3 (ipykernel)",
   "language": "python",
   "name": "python3"
  },
  "language_info": {
   "codemirror_mode": {
    "name": "ipython",
    "version": 3
   },
   "file_extension": ".py",
   "mimetype": "text/x-python",
   "name": "python",
   "nbconvert_exporter": "python",
   "pygments_lexer": "ipython3",
   "version": "3.10.12"
  }
 },
 "nbformat": 4,
 "nbformat_minor": 5
}
