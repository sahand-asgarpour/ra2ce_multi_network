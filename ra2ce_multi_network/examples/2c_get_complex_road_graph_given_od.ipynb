{
 "cells": [
  {
   "cell_type": "code",
   "execution_count": 13,
   "id": "2209da53",
   "metadata": {},
   "outputs": [],
   "source": [
    "import sys\n",
    "\n",
    "sys.path.append(r'C:\\repos\\ra2ce_multi_network') # path to the package\n",
    "sys.path.append(r'C:\\repos\\ra2ce') # path to the package\n",
    "\n",
    "import geopandas as gpd\n",
    "import pickle\n",
    "\n",
    "import pyproj\n",
    "from networkx import MultiDiGraph\n",
    "from pathlib import Path\n",
    "from snkit import Network\n",
    "\n",
    "from ra2ce.graph.origins_destinations import add_od_nodes\n",
    "from ra2ce.graph.exporters.multi_graph_network_exporter import MultiGraphNetworkExporter\n",
    "from ra2ce.graph.network_config_data.network_config_data import NetworkConfigData, NetworkSection\n",
    "from ra2ce.graph.network_config_data.enums.road_type_enum import RoadTypeEnum\n",
    "from ra2ce.graph.network_wrappers.osm_network_wrapper.osm_network_wrapper import OsmNetworkWrapper\n",
    "from ra2ce.graph.network_config_data.enums.network_type_enum import NetworkTypeEnum\n",
    "\n",
    "from ra2ce_multi_network.simplify_rail import _nx_to_network\n",
    "import ra2ce.graph.networks_utils as nut"
   ]
  },
  {
   "cell_type": "code",
   "execution_count": 18,
   "id": "db35b739",
   "metadata": {},
   "outputs": [],
   "source": [
    "# Defining ini variables\n",
    "root_folder = Path(\n",
    "    r'path_to_od_and_polygon_files')\n",
    "\n",
    "polygon_path = root_folder.joinpath(f'polygon.geojson')\n",
    "od_file = root_folder.joinpath('od_nodes.geojson')\n",
    "od_gdf = gpd.read_file(od_file)"
   ]
  },
  {
   "cell_type": "code",
   "execution_count": 15,
   "id": "a31dfc50",
   "metadata": {
    "scrolled": true
   },
   "outputs": [],
   "source": [
    "# Setting up the config data\n",
    "config_data = NetworkConfigData(\n",
    "    static_path=root_folder.joinpath('static'),\n",
    "    crs=pyproj.CRS(\"EPSG:4326\")\n",
    ")\n",
    "\n",
    "road_types = [\n",
    "        'motorway', 'motorway_link', 'primary', 'primary_link', 'secondary', 'secondary_link', 'trunk', 'trunk_link'\n",
    "    ]\n",
    "\n",
    "config_data.network = NetworkSection(\n",
    "    network_type=NetworkTypeEnum.get_enum('drive'),\n",
    "    road_types=[RoadTypeEnum.get_enum(road_type) for road_type in road_types],\n",
    "    polygon=polygon_path\n",
    ")"
   ]
  },
  {
   "cell_type": "code",
   "execution_count": null,
   "id": "eefa6dd0",
   "metadata": {},
   "outputs": [],
   "source": [
    "# Download the graph from osm and save\n",
    "\n",
    "osm_network_wrapper = OsmNetworkWrapper(config_data=config_data)\n",
    "complex_graph = osm_network_wrapper.get_clean_graph_from_osm()\n",
    "complex_graph.graph[\"crs\"] = pyproj.CRS(\"EPSG:4326\")\n",
    "with open(root_folder.joinpath(f'road_complex_graph.p'), 'wb') as f:\n",
    "    pickle.dump(complex_graph, f)"
   ]
  },
  {
   "cell_type": "code",
   "execution_count": null,
   "id": "4d59f204",
   "metadata": {},
   "outputs": [],
   "source": [
    "# Save the outputs\n",
    "od_gdf.to_file(od_file, driver=\"GeoJSON\")\n",
    "\n",
    "complex_graph_exporter = MultiGraphNetworkExporter(\n",
    "    basename=f'road_complex_graph_od_mapped',\n",
    "    export_types=['pickle', 'gpkg'])\n",
    "complex_graph_exporter.export_to_gpkg(output_dir=root_folder.joinpath(f'output_graph'),\n",
    "                                      export_data=complex_graph)\n",
    "complex_graph_exporter.export_to_pickle(output_dir=root_folder.joinpath(f'output_graph'),\n",
    "                                        export_data=complex_graph)"
   ]
  },
  {
   "cell_type": "code",
   "execution_count": 6,
   "id": "09510311",
   "metadata": {},
   "outputs": [],
   "source": [
    "# Load graphs and networks prepared befor\n",
    "# Approach 1\n",
    "\n",
    "od_gdf = gpd.read_file(od_file)\n",
    "\n",
    "with open(root_folder.joinpath(f'road_complex_graph_od_mapped.p'), 'rb') as f:\n",
    "    complex_graph = pickle.load(f)\n",
    "\n",
    "complex_road_network = Network(\n",
    "        nodes=_nx_to_network(complex_graph).nodes,\n",
    "        edges=_nx_to_network(complex_graph).edges\n",
    "    )\n",
    "\n",
    "# Approach 2\n",
    "\n",
    "# complex_road_network = Network(\n",
    "#     nodes=gpd.read_file(root_folder.joinpath(f'road_complex_graph_od_mapped_nodes.gpkg')),\n",
    "#     edges=gpd.read_file(root_folder.joinpath(f'road_complex_graph_od_mapped_edges.gpkg'))\n",
    "# )"
   ]
  },
  {
   "cell_type": "code",
   "execution_count": 6,
   "id": "49685e07",
   "metadata": {},
   "outputs": [
    {
     "name": "stderr",
     "output_type": "stream",
     "text": [
      "Adding Origin-Destination nodes to graph: 5it [00:00, 34.34it/s]\n"
     ]
    }
   ],
   "source": [
    "# Map origin-destinations the complex graph\n",
    "\n",
    "if not isinstance(complex_graph, MultiDiGraph):\n",
    "    complex_graph = MultiDiGraph(complex_graph)\n",
    "\n",
    "od_gdf, complex_graph = add_od_nodes(od=gpd.read_file(od_file), graph=complex_graph, crs=pyproj.CRS(\"EPSG:4326\"))"
   ]
  },
  {
   "cell_type": "code",
   "execution_count": 7,
   "id": "fc5d9304",
   "metadata": {},
   "outputs": [],
   "source": [
    "# Visualise\n",
    "\n",
    "road_map = complex_road_network.edges.explore(tiles=\"CartoDB positron\")\n",
    "# road_map = od_gdf.explore(m=road_map, color='springgreen')\n",
    "road_nodes_od_mapped = complex_road_network.nodes[~complex_road_network.nodes['od_id'].isna()]"
   ]
  },
  {
   "cell_type": "code",
   "execution_count": 8,
   "metadata": {},
   "outputs": [
    {
     "ename": "",
     "evalue": "",
     "output_type": "error",
     "traceback": [
      "\u001b[1;31mThe Kernel crashed while executing code in the the current cell or a previous cell. Please review the code in the cell(s) to identify a possible cause of the failure. Click <a href='https://aka.ms/vscodeJupyterKernelCrash'>here</a> for more info. View Jupyter <a href='command:jupyter.viewOutput'>log</a> for further details."
     ]
    }
   ],
   "source": [
    "road_nodes_od_mapped.explore(m=road_map, color='darkgreen')"
   ]
  }
 ],
 "metadata": {
  "kernelspec": {
   "display_name": "Python 3 (ipykernel)",
   "language": "python",
   "name": "python3"
  },
  "language_info": {
   "codemirror_mode": {
    "name": "ipython",
    "version": 3
   },
   "file_extension": ".py",
   "mimetype": "text/x-python",
   "name": "python",
   "nbconvert_exporter": "python",
   "pygments_lexer": "ipython3",
   "version": "3.10.12"
  }
 },
 "nbformat": 4,
 "nbformat_minor": 5
}
