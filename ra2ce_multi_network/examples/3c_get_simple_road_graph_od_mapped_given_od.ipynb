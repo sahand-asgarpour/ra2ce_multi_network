{
 "cells": [
  {
   "cell_type": "code",
   "execution_count": null,
   "id": "2209da53",
   "metadata": {},
   "outputs": [],
   "source": [
    "import sys\n",
    "\n",
    "# if ra2ce is not found sys.path.append(r'C:path_to_the_ra2ce_repo')  \n",
    "\n",
    "import geopandas as gpd\n",
    "import pickle\n",
    "\n",
    "import pyproj\n",
    "from networkx import MultiDiGraph\n",
    "from pathlib import Path\n",
    "from snkit import Network\n",
    "\n",
    "from ra2ce.graph.exporters.multi_graph_network_exporter import MultiGraphNetworkExporter\n",
    "from ra2ce.graph.exporters.network_exporter_base import NetworkExporterBase\n",
    "from ra2ce.graph.network_config_data.network_config_data import NetworkConfigData, NetworkSection\n",
    "from ra2ce.graph.network_wrappers.osm_network_wrapper.osm_network_wrapper import OsmNetworkWrapper\n",
    "from ra2ce.graph.origins_destinations import add_od_nodes\n",
    "from ra2ce_multi_network.simplify_rail import _nx_to_network, _network_to_nx\n",
    "import ra2ce.graph.networks_utils as nut"
   ]
  },
  {
   "cell_type": "code",
   "execution_count": null,
   "id": "db35b739",
   "metadata": {},
   "outputs": [],
   "source": [
    "# Defining ini variables\n",
    "root_folder = Path(\n",
    "    r'path_to_od_file')\n",
    "od_file = root_folder.joinpath('od_nodes.geojson')"
   ]
  },
  {
   "cell_type": "code",
   "execution_count": null,
   "id": "ac789cd4",
   "metadata": {},
   "outputs": [],
   "source": [
    "# Load complex graph\n",
    "od_gdf = gpd.read_file(od_file)\n",
    "\n",
    "with open(root_folder.joinpath(f'road_complex_graph.p'), 'rb') as f:\n",
    "    complex_graph = pickle.load(f)"
   ]
  },
  {
   "cell_type": "code",
   "execution_count": null,
   "id": "de6bc593",
   "metadata": {},
   "outputs": [],
   "source": [
    "# Simplify complex graph => get_network procedure source == \"OSM download\"\n",
    "\n",
    "simple_graph, complex_graph, link_tables = nut.create_simplified_graph(complex_graph)"
   ]
  },
  {
   "cell_type": "code",
   "execution_count": null,
   "metadata": {},
   "outputs": [],
   "source": [
    "# Save the link tables linking complex and simple IDs\n",
    "osm_network_wrapper = OsmNetworkWrapper(config_data=NetworkConfigData())\n",
    "# osm_network_wrapper._export_linking_tables(link_tables)\n",
    "\n",
    "if not osm_network_wrapper.is_directed and isinstance(simple_graph, MultiDiGraph):\n",
    "    simple_graph = simple_graph.to_undirected()\n",
    "\n",
    "# Check if all geometries between nodes are there, if not, add them as a straight line.\n",
    "\n",
    "simple_graph = nut.add_missing_geoms_graph(simple_graph, geom_name=\"geometry\")\n",
    "simple_graph.graph[\"crs\"] = pyproj.CRS(\"EPSG:4326\")"
   ]
  },
  {
   "cell_type": "code",
   "execution_count": null,
   "id": "4d59f204",
   "metadata": {},
   "outputs": [],
   "source": [
    "# Save the outputs\n",
    "\n",
    "od_gdf.to_file(od_file, driver=\"GeoJSON\")\n",
    "\n",
    "simple_graph_exporter = MultiGraphNetworkExporter(\n",
    "    basename=f'road_simple_graph',\n",
    "    export_types=['pickle', 'shp'])\n",
    "simple_graph_exporter.export_to_shp(output_dir=root_folder.joinpath(f'output_graph'),\n",
    "                                    export_data=simple_graph)\n",
    "simple_graph_exporter.export_to_pickle(output_dir=root_folder.joinpath(f'output_graph'),\n",
    "                                       export_data=simple_graph)"
   ]
  },
  {
   "cell_type": "code",
   "execution_count": null,
   "id": "09510311",
   "metadata": {},
   "outputs": [],
   "source": [
    "# Load graphs and networks prepared befor\n",
    "\n",
    "od_gdf = gpd.read_file(od_file)\n",
    "\n",
    "# Approach 1\n",
    "with open(root_folder.joinpath(f'road_simple_graph.p'), 'rb') as f:\n",
    "    simple_graph = pickle.load(f)\n",
    "\n",
    "simple_road_network = Network(\n",
    "        nodes=_nx_to_network(simple_graph).nodes,\n",
    "        edges=_nx_to_network(simple_graph).edges\n",
    "    )\n",
    "\n",
    "# Approach 2\n",
    "# simple_road_network = Network(\n",
    "#     nodes=gpd.read_file(root_folder.joinpath(f'road_simple_graph_nodes.gpkg')),\n",
    "#     edges=gpd.read_file(root_folder.joinpath(f'road_simple_graph_edges.gpkg'))\n",
    "# )"
   ]
  },
  {
   "cell_type": "code",
   "execution_count": null,
   "id": "49685e07",
   "metadata": {},
   "outputs": [],
   "source": [
    "# Map origin-destinations the simple graphs\n",
    "\n",
    "road_simple_graph_od_mapped = add_od_nodes(od=gpd.read_file(od_file), graph=simple_graph, crs=pyproj.CRS(\"EPSG:4326\"))[1]"
   ]
  },
  {
   "cell_type": "code",
   "execution_count": null,
   "metadata": {},
   "outputs": [],
   "source": [
    "# Save the outputs\n",
    "\n",
    "od_gdf.to_file(od_file, driver=\"GeoJSON\")\n",
    "\n",
    "simple_graph_od_mapped_exporter = MultiGraphNetworkExporter(\n",
    "    basename=f'road_simple_graph_od_mapped',\n",
    "    export_types=['pickle', 'shp'])\n",
    "simple_graph_od_mapped_exporter.export_to_shp(output_dir=root_folder.joinpath(f'output_graph'),\n",
    "                                    export_data=road_simple_graph_od_mapped)\n",
    "simple_graph_od_mapped_exporter.export_to_pickle(output_dir=root_folder.joinpath(f'output_graph'),\n",
    "                                       export_data=road_simple_graph_od_mapped)"
   ]
  },
  {
   "cell_type": "code",
   "execution_count": null,
   "id": "fc5d9304",
   "metadata": {},
   "outputs": [],
   "source": [
    "# Visualise\n",
    "\n",
    "road_map = road_simple_graph_od_mapped.edges.explore(tiles=\"CartoDB positron\")\n",
    "road_map = od_gdf.explore(m=road_map, color='springgreen')\n",
    "road_simple_graph_od_mapped.nodes[~road_simple_graph_od_mapped.nodes['od_id'].isna()].explore(m=road_map, color='darkgreen')"
   ]
  }
 ],
 "metadata": {
  "kernelspec": {
   "display_name": "Python 3 (ipykernel)",
   "language": "python",
   "name": "python3"
  },
  "language_info": {
   "codemirror_mode": {
    "name": "ipython",
    "version": 3
   },
   "file_extension": ".py",
   "mimetype": "text/x-python",
   "name": "python",
   "nbconvert_exporter": "python",
   "pygments_lexer": "ipython3",
   "version": "3.10.12"
  }
 },
 "nbformat": 4,
 "nbformat_minor": 5
}
