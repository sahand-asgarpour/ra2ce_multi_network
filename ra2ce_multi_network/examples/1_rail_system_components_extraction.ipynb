{
 "cells": [
  {
   "cell_type": "code",
   "execution_count": 1,
   "id": "f1eff232",
   "metadata": {},
   "outputs": [
    {
     "name": "stderr",
     "output_type": "stream",
     "text": [
      "c:\\Users\\asgarpou\\AppData\\Local\\miniconda3\\envs\\ra2ce_multi_network_env\\lib\\site-packages\\geopandas\\_compat.py:124: UserWarning: The Shapely GEOS version (3.11.2-CAPI-1.17.2) is incompatible with the GEOS version PyGEOS was compiled with (3.10.4-CAPI-1.16.2). Conversions between both will be slow.\n",
      "  warnings.warn(\n"
     ]
    },
    {
     "ename": "ModuleNotFoundError",
     "evalue": "No module named 'deeper_extraction'",
     "output_type": "error",
     "traceback": [
      "\u001b[1;31m---------------------------------------------------------------------------\u001b[0m",
      "\u001b[1;31mModuleNotFoundError\u001b[0m                       Traceback (most recent call last)",
      "Cell \u001b[1;32mIn[1], line 10\u001b[0m\n\u001b[0;32m      7\u001b[0m \u001b[38;5;28;01mfrom\u001b[39;00m \u001b[38;5;21;01mshapely\u001b[39;00m\u001b[38;5;21;01m.\u001b[39;00m\u001b[38;5;21;01mgeometry\u001b[39;00m \u001b[38;5;28;01mimport\u001b[39;00m shape\n\u001b[0;32m      8\u001b[0m \u001b[38;5;28;01mfrom\u001b[39;00m \u001b[38;5;21;01mdamagescanner\u001b[39;00m\u001b[38;5;21;01m.\u001b[39;00m\u001b[38;5;21;01mvector\u001b[39;00m \u001b[38;5;28;01mimport\u001b[39;00m \u001b[38;5;241m*\u001b[39m\n\u001b[1;32m---> 10\u001b[0m \u001b[38;5;28;01mfrom\u001b[39;00m \u001b[38;5;21;01mdeeper_extraction\u001b[39;00m \u001b[38;5;28;01mimport\u001b[39;00m filter_on_other_tags\n\u001b[0;32m     11\u001b[0m \u001b[38;5;28;01mfrom\u001b[39;00m \u001b[38;5;21;01msimplify_rail\u001b[39;00m \u001b[38;5;28;01mimport\u001b[39;00m \u001b[38;5;241m*\u001b[39m\n\u001b[0;32m     12\u001b[0m \u001b[38;5;28;01mimport\u001b[39;00m \u001b[38;5;21;01mjson\u001b[39;00m\n",
      "\u001b[1;31mModuleNotFoundError\u001b[0m: No module named 'deeper_extraction'"
     ]
    }
   ],
   "source": [
    "from osm_flex.download import *\n",
    "from osm_flex.extract import *\n",
    "from osm_flex.config import *\n",
    "import osm_flex.clip as cp\n",
    "import geojson\n",
    "import sys\n",
    "from shapely.geometry import shape\n",
    "from damagescanner.vector import *\n",
    "\n",
    "from ra2ce_multi_network import deeper_extraction, simplify_rail\n",
    "from simplify_rail import *\n",
    "from deeper_extraction import filter_on_other_tags\n",
    "import json\n",
    "# if ra2ce is not found sys.path.append(r'C:path_to_the_ra2ce_repo')  "
   ]
  },
  {
   "cell_type": "code",
   "execution_count": null,
   "id": "46fc94a1",
   "metadata": {},
   "outputs": [],
   "source": [
    "### Defining ini variables\n",
    "root_folder = OSM_DATA_DIR.parent\n",
    "\n",
    "## dump-related\n",
    "iso3_code = \"NLD\"\n",
    "region_code = \"Europe\"\n",
    "\n",
    "dump_region = DICT_GEOFABRIK[iso3_code][1]\n",
    "# dump_region = region_code.lower()\n",
    "\n",
    "dump_folder = root_folder / \"osm_pbf\"\n",
    "\n",
    "## Clipping-related\n",
    "study_area_suffix = '_ROTTERDAM_PORT'  # small case study area that works: '_ROTTERDAM_PORT'\n",
    "clip_polygon_path = Path(\n",
    "    rf'path_to_polygon.geojson'\n",
    ")\n",
    "clip_output_name = f'study_area{study_area_suffix}'\n",
    "study_area_dump_path = root_folder.joinpath('osm_pbf', f'{clip_output_name}.osm.pbf')\n",
    "\n",
    "## Extraction-related\n",
    "default_osm_keys = DICT_CIS_OSM['rail']['osm_keys']\n",
    "extract_path = root_folder.joinpath('extracts')\n",
    "\n",
    "# source: https://taginfo.openstreetmap.org/tags/railway=rail#combinations\n",
    "# 'other_tags' key is a string chain of 'tags' => 'keys', where relavant information is stored. e.g., whether traffic mode is freight or mixed\n",
    "rail_track_attributes = {\n",
    "    'osm_keys': [\n",
    "        'railway', 'name', 'gauge', 'electrified', 'voltage', 'bridge', 'maxspeed', 'service', 'tunnel', 'other_tags'\n",
    "    ],\n",
    "    'other_tags': ['\"railway:traffic_mode\"=>', '\"usage\"=>']\n",
    "}\n",
    "\n",
    "station_attributes = {\n",
    "    'osm_keys': ['railway', 'name', 'other_tags'],\n",
    "    'other_tags': ['\"train\"=>']\n",
    "}\n",
    "rail_track_osm_query = \"\"\"railway='rail' or railway='light_rail'\"\"\"\n",
    "station_osm_query = \"\"\"railway='station'\"\"\""
   ]
  },
  {
   "cell_type": "code",
   "execution_count": null,
   "id": "dbbb79bf",
   "metadata": {},
   "outputs": [],
   "source": [
    "## Get the country or region dump\n",
    "# get_country_geofabrik(iso3=country_iso3, save_path=root_folder)"
   ]
  },
  {
   "cell_type": "code",
   "execution_count": null,
   "id": "a58b278c",
   "metadata": {
    "scrolled": true
   },
   "outputs": [],
   "source": [
    "## Clip to the study area\n",
    "\n",
    "with open(clip_polygon_path) as f:\n",
    "    clip_polygon_gj = geojson.load(f)\n",
    "    \n",
    "clip_polygon_gdf = gpd.read_file(clip_polygon_path)\n",
    "\n",
    "polygon_feature = clip_polygon_gj['features'][0]\n",
    "polygon_geom = shape(polygon_feature['geometry'])\n",
    "\n",
    "# cp.clip_from_shapes([polygon_geom],\n",
    "#                     osmpbf_output=OSM_DATA_DIR.joinpath(f'{clip_output_name}.osm.pbf'),\n",
    "#                     osmpbf_clip_from=OSM_DATA_DIR.joinpath(f'{dump_region}-latest.osm.pbf'),\n",
    "#                     kernel='osmconvert', overwrite=True)\n",
    "clip_polygon_gdf.explore(tiles=\"CartoDB positron\")"
   ]
  },
  {
   "cell_type": "code",
   "execution_count": null,
   "id": "60e4d6fb",
   "metadata": {},
   "outputs": [],
   "source": [
    "## Extract required system components\n",
    "# railway_system_gdf = extract_cis(study_area_dump_path, 'rail')\n",
    "raw_rail_track_gdf = extract(osm_path=study_area_dump_path, geo_type='lines',\n",
    "                             osm_keys=rail_track_attributes['osm_keys'], osm_query=rail_track_osm_query)\n",
    "\n",
    "rail_track_gdf = filter_on_other_tags(\n",
    "    attributes=rail_track_attributes, other_tags_keys=rail_track_attributes['other_tags'], gdf=raw_rail_track_gdf\n",
    ")\n",
    "\n",
    "raw_station_gdf = extract(osm_path=study_area_dump_path, geo_type='points',\n",
    "                          osm_keys=station_attributes['osm_keys'], osm_query=station_osm_query)\n",
    "\n",
    "station_gdf = filter_on_other_tags(\n",
    "    attributes=station_attributes, other_tags_keys=station_attributes['other_tags'], gdf=raw_station_gdf,\n",
    "    dropna=[\"train\"]\n",
    ")\n",
    "\n",
    "raw_station_file = root_folder.joinpath(f'raw_station_{clip_output_name}.geojson')\n",
    "raw_rail_track_file = root_folder.joinpath(f'raw_rail_track_{clip_output_name}.geojson')\n",
    "rail_track_file = root_folder.joinpath(f'rail_track_{clip_output_name}.geojson')\n",
    "station_file = root_folder.joinpath(f'station_{clip_output_name}.geojson')\n",
    "\n",
    "raw_station_gdf.to_file(raw_station_file, driver='GeoJSON')\n",
    "raw_rail_track_gdf.to_file(raw_rail_track_file, driver='GeoJSON')\n",
    "rail_track_gdf.to_file(rail_track_file, driver='GeoJSON')\n",
    "station_gdf.to_file(station_file, driver='GeoJSON')\n",
    "\n",
    "## Alternative extraction package and method: Use damagescanner to retrieve railway\n",
    "# all_rail = retrieve(osm_path=str(study_area_dump_path), geo_type='lines',\n",
    "#                     key_col=rail_osm_keys, )\n",
    "# rail_track_gdf = all_rail[all_rail['railway'] == 'rail']\n",
    "# rail_map = rail_track_gdf.explore()\n",
    "# rail_map\n"
   ]
  },
  {
   "cell_type": "code",
   "execution_count": null,
   "id": "e7249747",
   "metadata": {
    "scrolled": true
   },
   "outputs": [],
   "source": [
    "# Visualise all railway network components\n",
    "# railway_system_gdf.explore(tiles=\"CartoDB positron\")"
   ]
  },
  {
   "cell_type": "code",
   "execution_count": null,
   "id": "139cbf4d",
   "metadata": {
    "scrolled": true
   },
   "outputs": [],
   "source": [
    "## Visualise railway tracks\n",
    "rail_map = rail_track_gdf.explore(tiles=\"CartoDB positron\")\n",
    "rail_map"
   ]
  },
  {
   "cell_type": "code",
   "execution_count": null,
   "id": "b2e5a307",
   "metadata": {
    "scrolled": true
   },
   "outputs": [],
   "source": [
    "## Visualise railway passenger stations\n",
    "station_gdf.explore(m=rail_map, color='red', marker_kwds={'radius':5})"
   ]
  }
 ],
 "metadata": {
  "kernelspec": {
   "display_name": "Python 3 (ipykernel)",
   "language": "python",
   "name": "python3"
  },
  "language_info": {
   "codemirror_mode": {
    "name": "ipython",
    "version": 3
   },
   "file_extension": ".py",
   "mimetype": "text/x-python",
   "name": "python",
   "nbconvert_exporter": "python",
   "pygments_lexer": "ipython3",
   "version": "3.10.12"
  }
 },
 "nbformat": 4,
 "nbformat_minor": 5
}
