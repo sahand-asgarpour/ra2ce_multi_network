{
 "cells": [
  {
   "cell_type": "code",
   "execution_count": 2,
   "id": "f1eff232",
   "metadata": {},
   "outputs": [],
   "source": [
    "from osm_flex.download import *\n",
    "from osm_flex.extract import *\n",
    "from osm_flex.config import *\n",
    "import osm_flex.clip as cp\n",
    "import geojson\n",
    "import sys\n",
    "from shapely.geometry import shape\n",
    "from damagescanner.vector import *\n",
    "\n",
    "from deeper_extraction import filter_on_other_tags\n",
    "from simplify_rail import *\n",
    "import json"
   ]
  },
  {
   "cell_type": "code",
   "execution_count": null,
   "id": "babb0a4d",
   "metadata": {},
   "outputs": [],
   "source": [
    "study_area_suffix = '_NL_BL_GR'\n",
    "rail_track_file = root_folder.joinpath(f'extracts/rail_track_{clip_output_name}.geojson')\n",
    "clip_output_name = f'study_area{study_area_suffix}'\n",
    "\n",
    "with open(rail_track_file, 'rb') as handle:\n",
    "    rail_track = json.load(handle)\n",
    "    rail_track_gdf = gpd.GeoDataFrame.from_features(rail_track[\"features\"])\n",
    "\n",
    "rail_track_gdf = rail_track_gdf.set_crs('epsg:4326')\n",
    "rail_track_gdf.explore(tiles=\"CartoDB positron\")"
   ]
  }
 ],
 "metadata": {
  "kernelspec": {
   "display_name": "Python 3 (ipykernel)",
   "language": "python",
   "name": "python3"
  },
  "language_info": {
   "codemirror_mode": {
    "name": "ipython",
    "version": 3
   },
   "file_extension": ".py",
   "mimetype": "text/x-python",
   "name": "python",
   "nbconvert_exporter": "python",
   "pygments_lexer": "ipython3",
   "version": "3.10.12"
  }
 },
 "nbformat": 4,
 "nbformat_minor": 5
}
