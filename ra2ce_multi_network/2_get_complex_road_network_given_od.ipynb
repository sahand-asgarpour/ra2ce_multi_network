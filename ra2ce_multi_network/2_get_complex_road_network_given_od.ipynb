{
 "cells": [
  {
   "cell_type": "code",
   "execution_count": 3,
   "id": "2209da53",
   "metadata": {},
   "outputs": [
    {
     "name": "stderr",
     "output_type": "stream",
     "text": [
      "c:\\Users\\asgarpou\\AppData\\Local\\miniconda3\\envs\\ra2ce_multi_network_env\\lib\\site-packages\\geopandas\\_compat.py:124: UserWarning: The Shapely GEOS version (3.11.2-CAPI-1.17.2) is incompatible with the GEOS version PyGEOS was compiled with (3.10.4-CAPI-1.16.2). Conversions between both will be slow.\n",
      "  warnings.warn(\n",
      "C:\\Users\\asgarpou\\AppData\\Local\\Temp\\ipykernel_25644\\4176253495.py:6: DeprecationWarning: Shapely 2.0 is installed, but because PyGEOS is also installed, GeoPandas still uses PyGEOS by default. However, starting with version 0.14, the default will switch to Shapely. To force to use Shapely 2.0 now, you can either uninstall PyGEOS or set the environment variable USE_PYGEOS=0. You can do this before starting the Python process, or in your code before importing geopandas:\n",
      "\n",
      "import os\n",
      "os.environ['USE_PYGEOS'] = '0'\n",
      "import geopandas\n",
      "\n",
      "In the next release, GeoPandas will switch to using Shapely by default, even if PyGEOS is installed. If you only have PyGEOS installed to get speed-ups, this switch should be smooth. However, if you are using PyGEOS directly (calling PyGEOS functions on geometries from GeoPandas), this will then stop working and you are encouraged to migrate from PyGEOS to Shapely 2.0 (https://shapely.readthedocs.io/en/latest/migration_pygeos.html).\n",
      "  import geopandas as gpd\n"
     ]
    }
   ],
   "source": [
    "import sys\n",
    "\n",
    "sys.path.append(r'C:\\repos\\ra2ce_multi_network') # path to the package\n",
    "sys.path.append(r'C:\\repos\\ra2ce') # path to the package\n",
    "\n",
    "import geopandas as gpd\n",
    "import pickle\n",
    "\n",
    "import pyproj\n",
    "from networkx import MultiDiGraph\n",
    "from pathlib import Path\n",
    "from snkit import Network\n",
    "\n",
    "from ra2ce.graph.exporters.geodataframe_network_exporter import GeoDataFrameNetworkExporter\n",
    "from ra2ce.graph.exporters.multi_graph_network_exporter import MultiGraphNetworkExporter\n",
    "from ra2ce.graph.exporters.network_exporter_base import NetworkExporterBase\n",
    "from ra2ce.graph.network_config_data.network_config_data import NetworkConfigData, NetworkSection\n",
    "from ra2ce.graph.network_wrappers.osm_network_wrapper.osm_network_wrapper import OsmNetworkWrapper\n",
    "from ra2ce.graph.origins_destinations import add_od_nodes\n",
    "from ra2ce_multi_network.simplify_rail import _nx_to_network, _network_to_nx\n",
    "import ra2ce.graph.networks_utils as nut"
   ]
  },
  {
   "cell_type": "code",
   "execution_count": 4,
   "id": "db35b739",
   "metadata": {},
   "outputs": [],
   "source": [
    "# Defining ini variables\n",
    "root_folder = Path(\n",
    "    r'C:\\Users\\asgarpou\\OneDrive - Stichting Deltares\\Documents\\Projects\\Long involvement\\SITO_Netwerk to system\\project_files\\get_shortest_routes_road')\n",
    "study_area_suffix = '_GR'\n",
    "output_name = f'study_area{study_area_suffix}'\n",
    "polygon_path = root_folder.joinpath(f'static/network/polygon{study_area_suffix}.geojson')\n",
    "od_file = root_folder.joinpath('static/network/od_nodes.geojson')"
   ]
  },
  {
   "cell_type": "code",
   "execution_count": 5,
   "id": "a31dfc50",
   "metadata": {
    "scrolled": true
   },
   "outputs": [],
   "source": [
    "# Setting up the config data\n",
    "config_data = NetworkConfigData(\n",
    "    static_path=root_folder.joinpath('static'),\n",
    "    crs=pyproj.CRS(\"EPSG:4326\")\n",
    ")\n",
    "\n",
    "config_data.network = NetworkSection(\n",
    "    network_type='drive',\n",
    "    road_types=['motorway', 'motorway_link', 'primary', 'primary_link', 'secondary', 'secondary_link', 'tertiary',\n",
    "                'tertiary_link', 'residential'],\n",
    "    polygon=polygon_path\n",
    ")"
   ]
  },
  {
   "cell_type": "code",
   "execution_count": 5,
   "id": "eefa6dd0",
   "metadata": {},
   "outputs": [
    {
     "name": "stderr",
     "output_type": "stream",
     "text": [
      "c:\\Users\\asgarpou\\AppData\\Local\\miniconda3\\envs\\ra2ce_multi_network_env\\lib\\site-packages\\osmnx\\simplification.py:459: UserWarning: Geometry is in a geographic CRS. Results from 'buffer' are likely incorrect. Use 'GeoSeries.to_crs()' to re-project geometries to a projected CRS before this operation.\n",
      "\n",
      "  merged = utils_graph.graph_to_gdfs(G, edges=False)[\"geometry\"].buffer(tolerance).unary_union\n",
      "c:\\Users\\asgarpou\\AppData\\Local\\miniconda3\\envs\\ra2ce_multi_network_env\\lib\\site-packages\\osmnx\\simplification.py:507: UserWarning: Geometry is in a geographic CRS. Results from 'centroid' are likely incorrect. Use 'GeoSeries.to_crs()' to re-project geometries to a projected CRS before this operation.\n",
      "\n",
      "  centroids = node_clusters.centroid\n"
     ]
    }
   ],
   "source": [
    "# Download the graph from osm and save\n",
    "\n",
    "osm_network_wrapper = OsmNetworkWrapper(config_data=config_data)\n",
    "complex_graph = osm_network_wrapper.get_clean_graph_from_osm()\n",
    "complex_graph.graph[\"crs\"] = pyproj.CRS(\"EPSG:4326\")\n",
    "with open(root_folder.joinpath(f'static/output_graph/road_complex_graph_{output_name}.p'), 'wb') as f:\n",
    "    pickle.dump(complex_graph, f)"
   ]
  },
  {
   "cell_type": "code",
   "execution_count": 6,
   "id": "49685e07",
   "metadata": {},
   "outputs": [
    {
     "name": "stderr",
     "output_type": "stream",
     "text": [
      "Adding Origin-Destination nodes to graph: 5it [00:00, 34.34it/s]\n"
     ]
    }
   ],
   "source": [
    "# Map origin-destinations the complex graph\n",
    "\n",
    "if not isinstance(complex_graph, MultiDiGraph):\n",
    "    complex_graph = MultiDiGraph(complex_graph)\n",
    "\n",
    "od_gdf, complex_graph = add_od_nodes(od=gpd.read_file(od_file), graph=complex_graph, crs=pyproj.CRS(\"EPSG:4326\"))"
   ]
  },
  {
   "cell_type": "code",
   "execution_count": 7,
   "id": "4d59f204",
   "metadata": {},
   "outputs": [
    {
     "name": "stderr",
     "output_type": "stream",
     "text": [
      "ERROR:fiona._env:sqlite3_exec(PRAGMA journal_mode = OFF;\n",
      "PRAGMA synchronous = OFF;\n",
      "CREATE VIRTUAL TABLE my_rtree USING rtree(id, minx, maxx, miny, maxy)) failed: \n",
      "ERROR:fiona._env:sqlite3_exec(PRAGMA journal_mode = OFF;\n",
      "PRAGMA synchronous = OFF;\n",
      "CREATE VIRTUAL TABLE my_rtree USING rtree(id, minx, maxx, miny, maxy)) failed: \n"
     ]
    }
   ],
   "source": [
    "# Save the outputs\n",
    "\n",
    "od_gdf.to_file(od_file, driver=\"GeoJSON\")\n",
    "\n",
    "complex_graph_exporter = MultiGraphNetworkExporter(\n",
    "    basename=f'road_complex_graph_origin_destinations_mapped_{output_name}',\n",
    "    export_types=['pickle', 'shp'])\n",
    "complex_graph_exporter.export_to_shp(output_dir=root_folder.joinpath(f'static/output_graph'),\n",
    "                                     export_data=complex_graph)\n",
    "complex_graph_exporter.export_to_pickle(output_dir=root_folder.joinpath(f'static/output_graph'),\n",
    "                                        export_data=complex_graph)"
   ]
  },
  {
   "cell_type": "code",
   "execution_count": 6,
   "id": "09510311",
   "metadata": {},
   "outputs": [],
   "source": [
    "# Load graphs and networks prepared befor\n",
    "# Approach 1\n",
    "\n",
    "od_gdf = gpd.read_file(od_file)\n",
    "\n",
    "with open(root_folder.joinpath(f'static/output_graph/road_complex_graph_origin_destinations_mapped_{output_name}.p'), 'rb') as f:\n",
    "    complex_graph = pickle.load(f)\n",
    "\n",
    "complex_road_network = Network(\n",
    "        nodes=_nx_to_network(complex_graph).nodes,\n",
    "        edges=_nx_to_network(complex_graph).edges\n",
    "    )\n",
    "\n",
    "# Approach 2\n",
    "\n",
    "# complex_road_network = Network(\n",
    "#     nodes=gpd.read_file(root_folder.joinpath(f'static/output_graph/road_complex_graph_origin_destinations_mapped_{output_name}_nodes.gpkg')),\n",
    "#     edges=gpd.read_file(root_folder.joinpath(f'static/output_graph/road_complex_graph_origin_destinations_mapped_{output_name}_edges.gpkg'))\n",
    "# )"
   ]
  },
  {
   "cell_type": "code",
   "execution_count": 7,
   "id": "fc5d9304",
   "metadata": {},
   "outputs": [],
   "source": [
    "# Visualise\n",
    "\n",
    "road_map = complex_road_network.edges.explore(tiles=\"CartoDB positron\")\n",
    "# road_map = od_gdf.explore(m=road_map, color='springgreen')\n",
    "road_nodes_od_mapped = complex_road_network.nodes[~complex_road_network.nodes['od_id'].isna()]"
   ]
  },
  {
   "cell_type": "code",
   "execution_count": 8,
   "metadata": {},
   "outputs": [
    {
     "ename": "",
     "evalue": "",
     "output_type": "error",
     "traceback": [
      "\u001b[1;31mThe Kernel crashed while executing code in the the current cell or a previous cell. Please review the code in the cell(s) to identify a possible cause of the failure. Click <a href='https://aka.ms/vscodeJupyterKernelCrash'>here</a> for more info. View Jupyter <a href='command:jupyter.viewOutput'>log</a> for further details."
     ]
    }
   ],
   "source": [
    "road_nodes_od_mapped.explore(m=road_map, color='darkgreen')"
   ]
  }
 ],
 "metadata": {
  "kernelspec": {
   "display_name": "Python 3 (ipykernel)",
   "language": "python",
   "name": "python3"
  },
  "language_info": {
   "codemirror_mode": {
    "name": "ipython",
    "version": 3
   },
   "file_extension": ".py",
   "mimetype": "text/x-python",
   "name": "python",
   "nbconvert_exporter": "python",
   "pygments_lexer": "ipython3",
   "version": "3.10.12"
  }
 },
 "nbformat": 4,
 "nbformat_minor": 5
}
