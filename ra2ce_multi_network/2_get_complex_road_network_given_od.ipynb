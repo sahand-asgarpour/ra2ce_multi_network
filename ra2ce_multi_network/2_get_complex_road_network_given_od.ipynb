{
 "cells": [
  {
   "cell_type": "code",
   "execution_count": 2,
   "id": "2209da53",
   "metadata": {},
   "outputs": [],
   "source": [
    "import sys\n",
    "\n",
    "sys.path.append(r'C:\\repos\\ra2ce_multi_network') # path to the package\n",
    "sys.path.append(r'C:\\repos\\ra2ce') # path to the package\n",
    "\n",
    "import geopandas as gpd\n",
    "import pickle\n",
    "\n",
    "import pyproj\n",
    "from networkx import MultiDiGraph\n",
    "from pathlib import Path\n",
    "from snkit import Network\n",
    "\n",
    "from ra2ce.graph.exporters.geodataframe_network_exporter import GeoDataFrameNetworkExporter\n",
    "from ra2ce.graph.exporters.multi_graph_network_exporter import MultiGraphNetworkExporter\n",
    "from ra2ce.graph.exporters.network_exporter_base import NetworkExporterBase\n",
    "from ra2ce.graph.network_config_data.network_config_data import NetworkConfigData, NetworkSection\n",
    "from ra2ce.graph.network_wrappers.osm_network_wrapper.osm_network_wrapper import OsmNetworkWrapper\n",
    "from ra2ce.graph.origins_destinations import add_od_nodes\n",
    "from ra2ce_multi_network.simplify_rail import _nx_to_network, _network_to_nx\n",
    "import ra2ce.graph.networks_utils as nut"
   ]
  },
  {
   "cell_type": "code",
   "execution_count": 9,
   "id": "db35b739",
   "metadata": {},
   "outputs": [],
   "source": [
    "# Defining ini variables\n",
    "root_folder = Path(\n",
    "    r'C:\\Users\\asgarpou\\OneDrive - Stichting Deltares\\Documents\\Projects\\Long involvement\\SITO_Netwerk to system\\project_files\\get_shortest_routes_road')\n",
    "study_area_suffix = '_GR'\n",
    "output_name = f'study_area{study_area_suffix}'\n",
    "polygon_path = root_folder.joinpath(f'static/network/polygon{study_area_suffix}.geojson')\n",
    "od_file = root_folder.joinpath('static/network/od_nodes.geojson')"
   ]
  },
  {
   "cell_type": "code",
   "execution_count": 4,
   "id": "a31dfc50",
   "metadata": {
    "scrolled": true
   },
   "outputs": [],
   "source": [
    "# Setting up the config data\n",
    "config_data = NetworkConfigData(\n",
    "    static_path=root_folder.joinpath('static'),\n",
    "    crs=pyproj.CRS(\"EPSG:4326\")\n",
    ")\n",
    "\n",
    "config_data.network = NetworkSection(\n",
    "    network_type='drive',\n",
    "    road_types=['motorway', 'motorway_link', 'primary', 'primary_link', 'secondary', 'secondary_link', 'tertiary',\n",
    "                'tertiary_link', 'residential'],\n",
    "    polygon=polygon_path\n",
    ")"
   ]
  },
  {
   "cell_type": "code",
   "execution_count": null,
   "id": "eefa6dd0",
   "metadata": {},
   "outputs": [],
   "source": [
    "# Download the graph from osm and save\n",
    "\n",
    "# osm_network_wrapper = OsmNetworkWrapper(config_data=config_data)\n",
    "# complex_graph = osm_network_wrapper.get_clean_graph_from_osm()\n",
    "# complex_graph.graph[\"crs\"] = pyproj.CRS(\"EPSG:4326\")\n",
    "# with open(root_folder.joinpath(f'static/output_graph/road_complex_graph_{output_name}.p'), 'wb') as f:\n",
    "#     pickle.dump(complex_graph, f)"
   ]
  },
  {
   "cell_type": "code",
   "execution_count": 23,
   "id": "49685e07",
   "metadata": {},
   "outputs": [],
   "source": [
    "# Map origin-destinations the complex graph\n",
    "\n",
    "# if not isinstance(complex_graph, MultiDiGraph):\n",
    "#     complex_graph = MultiDiGraph(complex_graph)\n",
    "\n",
    "# od_gdf, complex_graph = add_od_nodes(od=gpd.read_file(od_file), graph=complex_graph, crs=pyproj.CRS(\"EPSG:4326\"))"
   ]
  },
  {
   "cell_type": "code",
   "execution_count": null,
   "id": "4d59f204",
   "metadata": {},
   "outputs": [],
   "source": [
    "# Save the outputs\n",
    "\n",
    "# od_gdf.to_file(od_file, driver=\"GeoJSON\")\n",
    "\n",
    "# complex_graph_exporter = MultiGraphNetworkExporter(\n",
    "#     basename=f'road_complex_graph_origin_destinations_mapped_{output_name}',\n",
    "#     export_types=['pickle', 'shp'])\n",
    "# complex_graph_exporter.export_to_shp(output_dir=root_folder.joinpath(f'static/output_graph'),\n",
    "#                                      export_data=complex_graph)\n",
    "# complex_graph_exporter.export_to_pickle(output_dir=root_folder.joinpath(f'static/output_graph'),\n",
    "#                                         export_data=complex_graph)"
   ]
  },
  {
   "cell_type": "code",
   "execution_count": 8,
   "id": "09510311",
   "metadata": {},
   "outputs": [
    {
     "ename": "KeyboardInterrupt",
     "evalue": "",
     "output_type": "error",
     "traceback": [
      "\u001b[1;31m---------------------------------------------------------------------------\u001b[0m",
      "\u001b[1;31mKeyboardInterrupt\u001b[0m                         Traceback (most recent call last)",
      "\u001b[1;32mc:\\repos\\ra2ce_multi_network\\ra2ce_multi_network\\2_get_complex_road_network_given_od.ipynb Cell 7\u001b[0m line \u001b[0;36m6\n\u001b[0;32m      <a href='vscode-notebook-cell:/c%3A/repos/ra2ce_multi_network/ra2ce_multi_network/2_get_complex_road_network_given_od.ipynb#W6sZmlsZQ%3D%3D?line=2'>3</a>\u001b[0m od_gdf \u001b[39m=\u001b[39m gpd\u001b[39m.\u001b[39mread_file(od_file)\n\u001b[0;32m      <a href='vscode-notebook-cell:/c%3A/repos/ra2ce_multi_network/ra2ce_multi_network/2_get_complex_road_network_given_od.ipynb#W6sZmlsZQ%3D%3D?line=4'>5</a>\u001b[0m \u001b[39mwith\u001b[39;00m \u001b[39mopen\u001b[39m(root_folder\u001b[39m.\u001b[39mjoinpath(\u001b[39mf\u001b[39m\u001b[39m'\u001b[39m\u001b[39mstatic/output_graph/road_complex_graph_origin_destinations_mapped_\u001b[39m\u001b[39m{\u001b[39;00moutput_name\u001b[39m}\u001b[39;00m\u001b[39m.p\u001b[39m\u001b[39m'\u001b[39m), \u001b[39m'\u001b[39m\u001b[39mrb\u001b[39m\u001b[39m'\u001b[39m) \u001b[39mas\u001b[39;00m f:\n\u001b[1;32m----> <a href='vscode-notebook-cell:/c%3A/repos/ra2ce_multi_network/ra2ce_multi_network/2_get_complex_road_network_given_od.ipynb#W6sZmlsZQ%3D%3D?line=5'>6</a>\u001b[0m     complex_graph \u001b[39m=\u001b[39m pickle\u001b[39m.\u001b[39;49mload(f)\n\u001b[0;32m      <a href='vscode-notebook-cell:/c%3A/repos/ra2ce_multi_network/ra2ce_multi_network/2_get_complex_road_network_given_od.ipynb#W6sZmlsZQ%3D%3D?line=7'>8</a>\u001b[0m complex_road_network \u001b[39m=\u001b[39m Network(\n\u001b[0;32m      <a href='vscode-notebook-cell:/c%3A/repos/ra2ce_multi_network/ra2ce_multi_network/2_get_complex_road_network_given_od.ipynb#W6sZmlsZQ%3D%3D?line=8'>9</a>\u001b[0m         nodes\u001b[39m=\u001b[39m_nx_to_network(complex_graph)\u001b[39m.\u001b[39mnodes,\n\u001b[0;32m     <a href='vscode-notebook-cell:/c%3A/repos/ra2ce_multi_network/ra2ce_multi_network/2_get_complex_road_network_given_od.ipynb#W6sZmlsZQ%3D%3D?line=9'>10</a>\u001b[0m         edges\u001b[39m=\u001b[39m_nx_to_network(complex_graph)\u001b[39m.\u001b[39medges\n\u001b[0;32m     <a href='vscode-notebook-cell:/c%3A/repos/ra2ce_multi_network/ra2ce_multi_network/2_get_complex_road_network_given_od.ipynb#W6sZmlsZQ%3D%3D?line=10'>11</a>\u001b[0m     )\n",
      "File \u001b[1;32mc:\\Users\\asgarpou\\AppData\\Local\\miniconda3\\envs\\ra2ce_multi_network_env\\lib\\site-packages\\shapely\\io.py:319\u001b[0m, in \u001b[0;36mfrom_wkb\u001b[1;34m(geometry, on_invalid, **kwargs)\u001b[0m\n\u001b[0;32m    316\u001b[0m \u001b[39mif\u001b[39;00m \u001b[39mnot\u001b[39;00m np\u001b[39m.\u001b[39misscalar(on_invalid):\n\u001b[0;32m    317\u001b[0m     \u001b[39mraise\u001b[39;00m \u001b[39mTypeError\u001b[39;00m(\u001b[39m\"\u001b[39m\u001b[39mon_invalid only accepts scalar values\u001b[39m\u001b[39m\"\u001b[39m)\n\u001b[1;32m--> 319\u001b[0m invalid_handler \u001b[39m=\u001b[39m np\u001b[39m.\u001b[39muint8(DecodingErrorOptions\u001b[39m.\u001b[39;49mget_value(on_invalid))\n\u001b[0;32m    321\u001b[0m \u001b[39m# ensure the input has object dtype, to avoid numpy inferring it as a\u001b[39;00m\n\u001b[0;32m    322\u001b[0m \u001b[39m# fixed-length string dtype (which removes trailing null bytes upon access\u001b[39;00m\n\u001b[0;32m    323\u001b[0m \u001b[39m# of array elements)\u001b[39;00m\n\u001b[0;32m    324\u001b[0m geometry \u001b[39m=\u001b[39m np\u001b[39m.\u001b[39masarray(geometry, dtype\u001b[39m=\u001b[39m\u001b[39mobject\u001b[39m)\n",
      "File \u001b[1;32mc:\\Users\\asgarpou\\AppData\\Local\\miniconda3\\envs\\ra2ce_multi_network_env\\lib\\site-packages\\shapely\\_enum.py:16\u001b[0m, in \u001b[0;36mParamEnum.get_value\u001b[1;34m(cls, item)\u001b[0m\n\u001b[0;32m     14\u001b[0m \u001b[39m\u001b[39m\u001b[39m\"\"\"Validate incoming item and raise a ValueError with valid options if not present.\"\"\"\u001b[39;00m\n\u001b[0;32m     15\u001b[0m \u001b[39mtry\u001b[39;00m:\n\u001b[1;32m---> 16\u001b[0m     \u001b[39mreturn\u001b[39;00m \u001b[39mcls\u001b[39;49m[item]\u001b[39m.\u001b[39;49mvalue\n\u001b[0;32m     17\u001b[0m \u001b[39mexcept\u001b[39;00m \u001b[39mKeyError\u001b[39;00m:\n\u001b[0;32m     18\u001b[0m     valid_options \u001b[39m=\u001b[39m {e\u001b[39m.\u001b[39mname \u001b[39mfor\u001b[39;00m e \u001b[39min\u001b[39;00m \u001b[39mcls\u001b[39m}\n",
      "File \u001b[1;32mc:\\Users\\asgarpou\\AppData\\Local\\miniconda3\\envs\\ra2ce_multi_network_env\\lib\\types.py:176\u001b[0m, in \u001b[0;36mDynamicClassAttribute.__get__\u001b[1;34m(self, instance, ownerclass)\u001b[0m\n\u001b[0;32m    173\u001b[0m     \u001b[39m# support for abstract methods\u001b[39;00m\n\u001b[0;32m    174\u001b[0m     \u001b[39mself\u001b[39m\u001b[39m.\u001b[39m__isabstractmethod__ \u001b[39m=\u001b[39m \u001b[39mbool\u001b[39m(\u001b[39mgetattr\u001b[39m(fget, \u001b[39m'\u001b[39m\u001b[39m__isabstractmethod__\u001b[39m\u001b[39m'\u001b[39m, \u001b[39mFalse\u001b[39;00m))\n\u001b[1;32m--> 176\u001b[0m \u001b[39mdef\u001b[39;00m \u001b[39m__get__\u001b[39m(\u001b[39mself\u001b[39m, instance, ownerclass\u001b[39m=\u001b[39m\u001b[39mNone\u001b[39;00m):\n\u001b[0;32m    177\u001b[0m     \u001b[39mif\u001b[39;00m instance \u001b[39mis\u001b[39;00m \u001b[39mNone\u001b[39;00m:\n\u001b[0;32m    178\u001b[0m         \u001b[39mif\u001b[39;00m \u001b[39mself\u001b[39m\u001b[39m.\u001b[39m__isabstractmethod__:\n",
      "\u001b[1;31mKeyboardInterrupt\u001b[0m: "
     ]
    }
   ],
   "source": [
    "# Load graphs and networks prepared befor\n",
    "\n",
    "od_gdf = gpd.read_file(od_file)\n",
    "\n",
    "with open(root_folder.joinpath(f'static/output_graph/road_complex_graph_origin_destinations_mapped_{output_name}.p'), 'rb') as f:\n",
    "    complex_graph = pickle.load(f)\n",
    "\n",
    "complex_road_network = Network(\n",
    "        nodes=_nx_to_network(complex_graph).nodes,\n",
    "        edges=_nx_to_network(complex_graph).edges\n",
    "    )"
   ]
  },
  {
   "cell_type": "code",
   "execution_count": 6,
   "id": "2429dfa5",
   "metadata": {},
   "outputs": [],
   "source": [
    "# Load graphs and networks prepared befor\n",
    "\n",
    "complex_road_network = Network(\n",
    "    nodes=gpd.read_file(root_folder.joinpath(f'static/output_graph/road_complex_graph_origin_destinations_mapped_{output_name}_nodes.gpkg')),\n",
    "    edges=gpd.read_file(root_folder.joinpath(f'static/output_graph/road_complex_graph_origin_destinations_mapped_{output_name}_edges.gpkg'))\n",
    ")"
   ]
  },
  {
   "cell_type": "code",
   "execution_count": 10,
   "id": "fc5d9304",
   "metadata": {},
   "outputs": [],
   "source": [
    "# Visualise\n",
    "\n",
    "road_map = complex_road_network.edges.explore(tiles=\"CartoDB positron\")\n",
    "# road_map = od_gdf.explore(m=road_map, color='springgreen')\n",
    "complex_road_network.nodes[~complex_road_network.nodes['od_id'].isna()].explore(m=road_map, color='darkgreen')"
   ]
  }
 ],
 "metadata": {
  "kernelspec": {
   "display_name": "Python 3 (ipykernel)",
   "language": "python",
   "name": "python3"
  },
  "language_info": {
   "codemirror_mode": {
    "name": "ipython",
    "version": 3
   },
   "file_extension": ".py",
   "mimetype": "text/x-python",
   "name": "python",
   "nbconvert_exporter": "python",
   "pygments_lexer": "ipython3",
   "version": "3.10.12"
  }
 },
 "nbformat": 4,
 "nbformat_minor": 5
}
