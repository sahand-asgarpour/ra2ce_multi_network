{
 "cells": [
  {
   "cell_type": "code",
   "execution_count": 2,
   "id": "2209da53",
   "metadata": {},
   "outputs": [
    {
     "name": "stderr",
     "output_type": "stream",
     "text": [
      "c:\\Users\\asgarpou\\AppData\\Local\\miniconda3\\envs\\ra2ce_multi_network_env\\lib\\site-packages\\geopandas\\_compat.py:124: UserWarning: The Shapely GEOS version (3.11.2-CAPI-1.17.2) is incompatible with the GEOS version PyGEOS was compiled with (3.10.4-CAPI-1.16.2). Conversions between both will be slow.\n",
      "  warnings.warn(\n",
      "C:\\Users\\asgarpou\\AppData\\Local\\Temp\\ipykernel_22456\\4176253495.py:6: DeprecationWarning: Shapely 2.0 is installed, but because PyGEOS is also installed, GeoPandas still uses PyGEOS by default. However, starting with version 0.14, the default will switch to Shapely. To force to use Shapely 2.0 now, you can either uninstall PyGEOS or set the environment variable USE_PYGEOS=0. You can do this before starting the Python process, or in your code before importing geopandas:\n",
      "\n",
      "import os\n",
      "os.environ['USE_PYGEOS'] = '0'\n",
      "import geopandas\n",
      "\n",
      "In the next release, GeoPandas will switch to using Shapely by default, even if PyGEOS is installed. If you only have PyGEOS installed to get speed-ups, this switch should be smooth. However, if you are using PyGEOS directly (calling PyGEOS functions on geometries from GeoPandas), this will then stop working and you are encouraged to migrate from PyGEOS to Shapely 2.0 (https://shapely.readthedocs.io/en/latest/migration_pygeos.html).\n",
      "  import geopandas as gpd\n"
     ]
    }
   ],
   "source": [
    "import sys\n",
    "\n",
    "sys.path.append(r'C:\\repos\\ra2ce_multi_network') # path to the package\n",
    "sys.path.append(r'C:\\repos\\ra2ce') # path to the package\n",
    "\n",
    "import geopandas as gpd\n",
    "import pickle\n",
    "\n",
    "import pyproj\n",
    "from networkx import MultiDiGraph\n",
    "from pathlib import Path\n",
    "from snkit import Network\n",
    "\n",
    "from ra2ce.graph.exporters.geodataframe_network_exporter import GeoDataFrameNetworkExporter\n",
    "from ra2ce.graph.exporters.multi_graph_network_exporter import MultiGraphNetworkExporter\n",
    "from ra2ce.graph.exporters.network_exporter_base import NetworkExporterBase\n",
    "from ra2ce.graph.network_config_data.network_config_data import NetworkConfigData, NetworkSection\n",
    "from ra2ce.graph.network_wrappers.osm_network_wrapper.osm_network_wrapper import OsmNetworkWrapper\n",
    "from ra2ce.graph.origins_destinations import add_od_nodes\n",
    "from ra2ce_multi_network.simplify_rail import _nx_to_network, _network_to_nx\n",
    "import ra2ce.graph.networks_utils as nut"
   ]
  },
  {
   "cell_type": "code",
   "execution_count": 3,
   "id": "db35b739",
   "metadata": {},
   "outputs": [],
   "source": [
    "# Defining ini variables\n",
    "root_folder = Path(\n",
    "    r'C:\\Users\\asgarpou\\OneDrive - Stichting Deltares\\Documents\\Projects\\Long involvement\\SITO_Netwerk to system\\project_files\\get_shortest_routes_road')\n",
    "study_area_suffix = '_GR'\n",
    "output_name = f'study_area{study_area_suffix}'\n",
    "polygon_path = root_folder.joinpath(f'static/network/polygon{study_area_suffix}.geojson')\n",
    "od_file = root_folder.joinpath('static/network/od_nodes.geojson')"
   ]
  },
  {
   "cell_type": "code",
   "execution_count": 4,
   "id": "a31dfc50",
   "metadata": {
    "scrolled": true
   },
   "outputs": [],
   "source": [
    "# Setting up the config data\n",
    "config_data = NetworkConfigData(\n",
    "    static_path=root_folder.joinpath('static'),\n",
    "    crs=pyproj.CRS(\"EPSG:4326\")\n",
    ")\n",
    "\n",
    "config_data.network = NetworkSection(\n",
    "    network_type='drive',\n",
    "    road_types=['motorway', 'motorway_link', 'primary', 'primary_link', 'secondary', 'secondary_link', 'tertiary',\n",
    "                'tertiary_link', 'residential'],\n",
    "    polygon=polygon_path\n",
    ")"
   ]
  },
  {
   "cell_type": "code",
   "execution_count": null,
   "id": "eefa6dd0",
   "metadata": {},
   "outputs": [],
   "source": [
    "# Download the graph from osm and save\n",
    "\n",
    "# osm_network_wrapper = OsmNetworkWrapper(config_data=config_data)\n",
    "# complex_graph = osm_network_wrapper.get_clean_graph_from_osm()\n",
    "# complex_graph.graph[\"crs\"] = pyproj.CRS(\"EPSG:4326\")\n",
    "# with open(root_folder.joinpath(f'static/output_graph/road_complex_graph_{output_name}.p'), 'wb') as f:\n",
    "#     pickle.dump(complex_graph, f)"
   ]
  },
  {
   "cell_type": "code",
   "execution_count": 23,
   "id": "49685e07",
   "metadata": {},
   "outputs": [],
   "source": [
    "# Map origin-destinations the complex graph\n",
    "\n",
    "# if not isinstance(complex_graph, MultiDiGraph):\n",
    "#     complex_graph = MultiDiGraph(complex_graph)\n",
    "\n",
    "# od_gdf, complex_graph = add_od_nodes(od=gpd.read_file(od_file), graph=complex_graph, crs=pyproj.CRS(\"EPSG:4326\"))"
   ]
  },
  {
   "cell_type": "code",
   "execution_count": null,
   "id": "4d59f204",
   "metadata": {},
   "outputs": [],
   "source": [
    "# Save the outputs\n",
    "\n",
    "# od_gdf.to_file(od_file, driver=\"GeoJSON\")\n",
    "\n",
    "# complex_graph_exporter = MultiGraphNetworkExporter(\n",
    "#     basename=f'road_complex_graph_origin_destinations_mapped_{output_name}',\n",
    "#     export_types=['pickle', 'shp'])\n",
    "# complex_graph_exporter.export_to_shp(output_dir=root_folder.joinpath(f'static/output_graph'),\n",
    "#                                      export_data=complex_graph)\n",
    "# complex_graph_exporter.export_to_pickle(output_dir=root_folder.joinpath(f'static/output_graph'),\n",
    "#                                         export_data=complex_graph)"
   ]
  },
  {
   "cell_type": "code",
   "execution_count": 14,
   "id": "09510311",
   "metadata": {},
   "outputs": [],
   "source": [
    "# Load graphs and networks prepared befor\n",
    "\n",
    "od_gdf = gpd.read_file(od_file)\n",
    "\n",
    "with open(root_folder.joinpath(f'static/output_graph/road_complex_graph_origin_destinations_mapped_{output_name}.p'), 'rb') as f:\n",
    "    complex_graph = pickle.load(f)\n",
    "\n",
    "complex_road_network = Network(\n",
    "        nodes=_nx_to_network(complex_graph).nodes,\n",
    "        edges=_nx_to_network(complex_graph).edges\n",
    "    )"
   ]
  },
  {
   "cell_type": "code",
   "execution_count": 6,
   "id": "2429dfa5",
   "metadata": {},
   "outputs": [],
   "source": [
    "# Load graphs and networks prepared befor\n",
    "\n",
    "complex_road_network = Network(\n",
    "    nodes=gpd.read_file(root_folder.joinpath(f'static/output_graph/road_complex_graph_origin_destinations_mapped_{output_name}_nodes.gpkg')),\n",
    "    edges=gpd.read_file(root_folder.joinpath(f'static/output_graph/road_complex_graph_origin_destinations_mapped_{output_name}_edges.gpkg'))\n",
    ")"
   ]
  },
  {
   "cell_type": "code",
   "execution_count": 13,
   "id": "fc5d9304",
   "metadata": {},
   "outputs": [
    {
     "name": "stdout",
     "output_type": "stream",
     "text": [
      "<snkit.network.Network object at 0x00000206D438B400>\n"
     ]
    }
   ],
   "source": [
    "# Visualise\n",
    "\n",
    "road_map = complex_road_network.edges.explore(tiles=\"CartoDB positron\")\n",
    "road_map = od_gdf.explore(m=road_map, color='springgreen')\n",
    "complex_road_network.nodes[~complex_road_network.nodes['od_id'].isna()].explore(m=road_map, color='darkgreen')"
   ]
  }
 ],
 "metadata": {
  "kernelspec": {
   "display_name": "Python 3 (ipykernel)",
   "language": "python",
   "name": "python3"
  },
  "language_info": {
   "codemirror_mode": {
    "name": "ipython",
    "version": 3
   },
   "file_extension": ".py",
   "mimetype": "text/x-python",
   "name": "python",
   "nbconvert_exporter": "python",
   "pygments_lexer": "ipython3",
   "version": "3.10.12"
  }
 },
 "nbformat": 4,
 "nbformat_minor": 5
}
