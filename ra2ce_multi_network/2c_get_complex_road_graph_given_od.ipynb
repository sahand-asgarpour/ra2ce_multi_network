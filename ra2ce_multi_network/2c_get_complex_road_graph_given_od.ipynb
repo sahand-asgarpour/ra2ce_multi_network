{
 "cells": [
  {
   "cell_type": "code",
   "execution_count": 13,
   "id": "2209da53",
   "metadata": {},
   "outputs": [],
   "source": [
    "import sys\n",
    "\n",
    "sys.path.append(r'C:\\repos\\ra2ce_multi_network') # path to the package\n",
    "sys.path.append(r'C:\\repos\\ra2ce') # path to the package\n",
    "\n",
    "import geopandas as gpd\n",
    "import pickle\n",
    "\n",
    "import pyproj\n",
    "from networkx import MultiDiGraph\n",
    "from pathlib import Path\n",
    "from snkit import Network\n",
    "\n",
    "from ra2ce.graph.origins_destinations import add_od_nodes\n",
    "from ra2ce.graph.exporters.multi_graph_network_exporter import MultiGraphNetworkExporter\n",
    "from ra2ce.graph.network_config_data.network_config_data import NetworkConfigData, NetworkSection\n",
    "from ra2ce.graph.network_config_data.enums.road_type_enum import RoadTypeEnum\n",
    "from ra2ce.graph.network_wrappers.osm_network_wrapper.osm_network_wrapper import OsmNetworkWrapper\n",
    "from ra2ce.graph.network_config_data.enums.network_type_enum import NetworkTypeEnum\n",
    "\n",
    "from ra2ce_multi_network.simplify_rail import _nx_to_network\n",
    "import ra2ce.graph.networks_utils as nut"
   ]
  },
  {
   "cell_type": "code",
   "execution_count": 18,
   "id": "db35b739",
   "metadata": {},
   "outputs": [],
   "source": [
    "# Defining ini variables\n",
    "root_folder = Path(\n",
    "    # r'C:\\Users\\asgarpou\\OneDrive - Stichting Deltares\\Documents\\Projects\\Long involvement\\SITO_Netwerk to system\\project_files\\get_shortest_routes_road'\n",
    "    r'C:\\Users\\asgarpou\\OneDrive - Stichting Deltares\\Documents\\Projects\\Long involvement\\SITO_Netwerk to system\\project_files\\multi_network')\n",
    "study_area_suffix = '_GR'\n",
    "output_name = f'study_area{study_area_suffix}'\n",
    "polygon_path = root_folder.joinpath(f'static/network/polygon{study_area_suffix}.geojson')\n",
    "od_file = root_folder.joinpath('static/network/od_nodes.geojson')\n",
    "od_gdf = gpd.read_file(od_file)"
   ]
  },
  {
   "cell_type": "code",
   "execution_count": 15,
   "id": "a31dfc50",
   "metadata": {
    "scrolled": true
   },
   "outputs": [],
   "source": [
    "# Setting up the config data\n",
    "config_data = NetworkConfigData(\n",
    "    static_path=root_folder.joinpath('static'),\n",
    "    crs=pyproj.CRS(\"EPSG:4326\")\n",
    ")\n",
    "\n",
    "road_types = [\n",
    "        'motorway', 'motorway_link', 'primary', 'primary_link', 'secondary', 'secondary_link', 'trunk', 'trunk_link'\n",
    "    ]\n",
    "\n",
    "config_data.network = NetworkSection(\n",
    "    network_type=NetworkTypeEnum.get_enum('drive'),\n",
    "    road_types=[RoadTypeEnum.get_enum(road_type) for road_type in road_types],\n",
    "    polygon=polygon_path\n",
    ")"
   ]
  },
  {
   "cell_type": "code",
   "execution_count": 11,
   "id": "eefa6dd0",
   "metadata": {},
   "outputs": [
    {
     "ename": "AttributeError",
     "evalue": "'str' object has no attribute 'config_value'",
     "output_type": "error",
     "traceback": [
      "\u001b[1;31m---------------------------------------------------------------------------\u001b[0m",
      "\u001b[1;31mAttributeError\u001b[0m                            Traceback (most recent call last)",
      "\u001b[1;32mc:\\repos\\ra2ce_multi_network\\ra2ce_multi_network\\2c_get_complex_road_graph_given_od.ipynb Cell 4\u001b[0m line \u001b[0;36m3\n\u001b[0;32m      <a href='vscode-notebook-cell:/c%3A/repos/ra2ce_multi_network/ra2ce_multi_network/2c_get_complex_road_graph_given_od.ipynb#W3sZmlsZQ%3D%3D?line=0'>1</a>\u001b[0m \u001b[39m# Download the graph from osm and save\u001b[39;00m\n\u001b[1;32m----> <a href='vscode-notebook-cell:/c%3A/repos/ra2ce_multi_network/ra2ce_multi_network/2c_get_complex_road_graph_given_od.ipynb#W3sZmlsZQ%3D%3D?line=2'>3</a>\u001b[0m osm_network_wrapper \u001b[39m=\u001b[39m OsmNetworkWrapper(config_data\u001b[39m=\u001b[39;49mconfig_data)\n\u001b[0;32m      <a href='vscode-notebook-cell:/c%3A/repos/ra2ce_multi_network/ra2ce_multi_network/2c_get_complex_road_graph_given_od.ipynb#W3sZmlsZQ%3D%3D?line=3'>4</a>\u001b[0m complex_graph \u001b[39m=\u001b[39m osm_network_wrapper\u001b[39m.\u001b[39mget_clean_graph_from_osm()\n\u001b[0;32m      <a href='vscode-notebook-cell:/c%3A/repos/ra2ce_multi_network/ra2ce_multi_network/2c_get_complex_road_graph_given_od.ipynb#W3sZmlsZQ%3D%3D?line=4'>5</a>\u001b[0m complex_graph\u001b[39m.\u001b[39mgraph[\u001b[39m\"\u001b[39m\u001b[39mcrs\u001b[39m\u001b[39m\"\u001b[39m] \u001b[39m=\u001b[39m pyproj\u001b[39m.\u001b[39mCRS(\u001b[39m\"\u001b[39m\u001b[39mEPSG:4326\u001b[39m\u001b[39m\"\u001b[39m)\n",
      "File \u001b[1;32mC:\\repos\\ra2ce\\ra2ce\\graph\\network_wrappers\\osm_network_wrapper\\osm_network_wrapper.py:43\u001b[0m, in \u001b[0;36mOsmNetworkWrapper.__init__\u001b[1;34m(self, config_data)\u001b[0m\n\u001b[0;32m     40\u001b[0m \u001b[39mself\u001b[39m\u001b[39m.\u001b[39mgraph_crs \u001b[39m=\u001b[39m config_data\u001b[39m.\u001b[39mcrs\n\u001b[0;32m     42\u001b[0m \u001b[39m# Network\u001b[39;00m\n\u001b[1;32m---> 43\u001b[0m \u001b[39mself\u001b[39m\u001b[39m.\u001b[39mnetwork_type \u001b[39m=\u001b[39m config_data\u001b[39m.\u001b[39;49mnetwork\u001b[39m.\u001b[39;49mnetwork_type\u001b[39m.\u001b[39;49mconfig_value\n\u001b[0;32m     44\u001b[0m \u001b[39mself\u001b[39m\u001b[39m.\u001b[39mroad_types \u001b[39m=\u001b[39m \u001b[39mlist\u001b[39m(\n\u001b[0;32m     45\u001b[0m     _enum\u001b[39m.\u001b[39mconfig_value \u001b[39mfor\u001b[39;00m _enum \u001b[39min\u001b[39;00m config_data\u001b[39m.\u001b[39mnetwork\u001b[39m.\u001b[39mroad_types\n\u001b[0;32m     46\u001b[0m )\n\u001b[0;32m     47\u001b[0m \u001b[39mself\u001b[39m\u001b[39m.\u001b[39mpolygon_path \u001b[39m=\u001b[39m config_data\u001b[39m.\u001b[39mnetwork\u001b[39m.\u001b[39mpolygon\n",
      "\u001b[1;31mAttributeError\u001b[0m: 'str' object has no attribute 'config_value'"
     ]
    }
   ],
   "source": [
    "# Download the graph from osm and save\n",
    "\n",
    "osm_network_wrapper = OsmNetworkWrapper(config_data=config_data)\n",
    "complex_graph = osm_network_wrapper.get_clean_graph_from_osm()\n",
    "complex_graph.graph[\"crs\"] = pyproj.CRS(\"EPSG:4326\")\n",
    "with open(root_folder.joinpath(f'static/output_graph/road_complex_graph_{output_name}.p'), 'wb') as f:\n",
    "    pickle.dump(complex_graph, f)"
   ]
  },
  {
   "cell_type": "code",
   "execution_count": 17,
   "id": "4d59f204",
   "metadata": {},
   "outputs": [
    {
     "ename": "NameError",
     "evalue": "name 'od_gdf' is not defined",
     "output_type": "error",
     "traceback": [
      "\u001b[1;31m---------------------------------------------------------------------------\u001b[0m",
      "\u001b[1;31mNameError\u001b[0m                                 Traceback (most recent call last)",
      "\u001b[1;32mc:\\repos\\ra2ce_multi_network\\ra2ce_multi_network\\2c_get_complex_road_graph_given_od.ipynb Cell 5\u001b[0m line \u001b[0;36m3\n\u001b[0;32m      <a href='vscode-notebook-cell:/c%3A/repos/ra2ce_multi_network/ra2ce_multi_network/2c_get_complex_road_graph_given_od.ipynb#W4sZmlsZQ%3D%3D?line=0'>1</a>\u001b[0m \u001b[39m# Save the outputs\u001b[39;00m\n\u001b[1;32m----> <a href='vscode-notebook-cell:/c%3A/repos/ra2ce_multi_network/ra2ce_multi_network/2c_get_complex_road_graph_given_od.ipynb#W4sZmlsZQ%3D%3D?line=2'>3</a>\u001b[0m od_gdf\u001b[39m.\u001b[39mto_file(od_file, driver\u001b[39m=\u001b[39m\u001b[39m\"\u001b[39m\u001b[39mGeoJSON\u001b[39m\u001b[39m\"\u001b[39m)\n\u001b[0;32m      <a href='vscode-notebook-cell:/c%3A/repos/ra2ce_multi_network/ra2ce_multi_network/2c_get_complex_road_graph_given_od.ipynb#W4sZmlsZQ%3D%3D?line=4'>5</a>\u001b[0m complex_graph_exporter \u001b[39m=\u001b[39m MultiGraphNetworkExporter(\n\u001b[0;32m      <a href='vscode-notebook-cell:/c%3A/repos/ra2ce_multi_network/ra2ce_multi_network/2c_get_complex_road_graph_given_od.ipynb#W4sZmlsZQ%3D%3D?line=5'>6</a>\u001b[0m     basename\u001b[39m=\u001b[39m\u001b[39mf\u001b[39m\u001b[39m'\u001b[39m\u001b[39mroad_complex_graph_origin_destinations_mapped_\u001b[39m\u001b[39m{\u001b[39;00moutput_name\u001b[39m}\u001b[39;00m\u001b[39m'\u001b[39m,\n\u001b[0;32m      <a href='vscode-notebook-cell:/c%3A/repos/ra2ce_multi_network/ra2ce_multi_network/2c_get_complex_road_graph_given_od.ipynb#W4sZmlsZQ%3D%3D?line=6'>7</a>\u001b[0m     export_types\u001b[39m=\u001b[39m[\u001b[39m'\u001b[39m\u001b[39mpickle\u001b[39m\u001b[39m'\u001b[39m, \u001b[39m'\u001b[39m\u001b[39mshp\u001b[39m\u001b[39m'\u001b[39m])\n\u001b[0;32m      <a href='vscode-notebook-cell:/c%3A/repos/ra2ce_multi_network/ra2ce_multi_network/2c_get_complex_road_graph_given_od.ipynb#W4sZmlsZQ%3D%3D?line=7'>8</a>\u001b[0m complex_graph_exporter\u001b[39m.\u001b[39mexport_to_shp(output_dir\u001b[39m=\u001b[39mroot_folder\u001b[39m.\u001b[39mjoinpath(\u001b[39mf\u001b[39m\u001b[39m'\u001b[39m\u001b[39mstatic/output_graph\u001b[39m\u001b[39m'\u001b[39m),\n\u001b[0;32m      <a href='vscode-notebook-cell:/c%3A/repos/ra2ce_multi_network/ra2ce_multi_network/2c_get_complex_road_graph_given_od.ipynb#W4sZmlsZQ%3D%3D?line=8'>9</a>\u001b[0m                                      export_data\u001b[39m=\u001b[39mcomplex_graph)\n",
      "\u001b[1;31mNameError\u001b[0m: name 'od_gdf' is not defined"
     ]
    }
   ],
   "source": [
    "# Save the outputs\n",
    "od_gdf.to_file(od_file, driver=\"GeoJSON\")\n",
    "\n",
    "complex_graph_exporter = MultiGraphNetworkExporter(\n",
    "    basename=f'road_complex_graph_od_mapped_{output_name}',\n",
    "    export_types=['pickle', 'gpkg'])\n",
    "complex_graph_exporter.export_to_gpkg(output_dir=root_folder.joinpath(f'static/output_graph'),\n",
    "                                      export_data=complex_graph)\n",
    "complex_graph_exporter.export_to_pickle(output_dir=root_folder.joinpath(f'static/output_graph'),\n",
    "                                        export_data=complex_graph)"
   ]
  },
  {
   "cell_type": "code",
   "execution_count": 6,
   "id": "09510311",
   "metadata": {},
   "outputs": [],
   "source": [
    "# Load graphs and networks prepared befor\n",
    "# Approach 1\n",
    "\n",
    "od_gdf = gpd.read_file(od_file)\n",
    "\n",
    "with open(root_folder.joinpath(f'static/output_graph/road_complex_graph_od_mapped_{output_name}.p'), 'rb') as f:\n",
    "    complex_graph = pickle.load(f)\n",
    "\n",
    "complex_road_network = Network(\n",
    "        nodes=_nx_to_network(complex_graph).nodes,\n",
    "        edges=_nx_to_network(complex_graph).edges\n",
    "    )\n",
    "\n",
    "# Approach 2\n",
    "\n",
    "# complex_road_network = Network(\n",
    "#     nodes=gpd.read_file(root_folder.joinpath(f'static/output_graph/road_complex_graph_od_mapped_{output_name}_nodes.gpkg')),\n",
    "#     edges=gpd.read_file(root_folder.joinpath(f'static/output_graph/road_complex_graph_od_mapped_{output_name}_edges.gpkg'))\n",
    "# )"
   ]
  },
  {
   "cell_type": "code",
   "execution_count": 6,
   "id": "49685e07",
   "metadata": {},
   "outputs": [
    {
     "name": "stderr",
     "output_type": "stream",
     "text": [
      "Adding Origin-Destination nodes to graph: 5it [00:00, 34.34it/s]\n"
     ]
    }
   ],
   "source": [
    "# Map origin-destinations the complex graph\n",
    "\n",
    "if not isinstance(complex_graph, MultiDiGraph):\n",
    "    complex_graph = MultiDiGraph(complex_graph)\n",
    "\n",
    "od_gdf, complex_graph = add_od_nodes(od=gpd.read_file(od_file), graph=complex_graph, crs=pyproj.CRS(\"EPSG:4326\"))"
   ]
  },
  {
   "cell_type": "code",
   "execution_count": 7,
   "id": "fc5d9304",
   "metadata": {},
   "outputs": [],
   "source": [
    "# Visualise\n",
    "\n",
    "road_map = complex_road_network.edges.explore(tiles=\"CartoDB positron\")\n",
    "# road_map = od_gdf.explore(m=road_map, color='springgreen')\n",
    "road_nodes_od_mapped = complex_road_network.nodes[~complex_road_network.nodes['od_id'].isna()]"
   ]
  },
  {
   "cell_type": "code",
   "execution_count": 8,
   "metadata": {},
   "outputs": [
    {
     "ename": "",
     "evalue": "",
     "output_type": "error",
     "traceback": [
      "\u001b[1;31mThe Kernel crashed while executing code in the the current cell or a previous cell. Please review the code in the cell(s) to identify a possible cause of the failure. Click <a href='https://aka.ms/vscodeJupyterKernelCrash'>here</a> for more info. View Jupyter <a href='command:jupyter.viewOutput'>log</a> for further details."
     ]
    }
   ],
   "source": [
    "road_nodes_od_mapped.explore(m=road_map, color='darkgreen')"
   ]
  }
 ],
 "metadata": {
  "kernelspec": {
   "display_name": "Python 3 (ipykernel)",
   "language": "python",
   "name": "python3"
  },
  "language_info": {
   "codemirror_mode": {
    "name": "ipython",
    "version": 3
   },
   "file_extension": ".py",
   "mimetype": "text/x-python",
   "name": "python",
   "nbconvert_exporter": "python",
   "pygments_lexer": "ipython3",
   "version": "3.10.12"
  }
 },
 "nbformat": 4,
 "nbformat_minor": 5
}
