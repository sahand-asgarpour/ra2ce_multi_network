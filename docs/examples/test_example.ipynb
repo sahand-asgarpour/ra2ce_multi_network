{
 "cells": [
  {
   "cell_type": "code",
   "execution_count": null,
   "metadata": {},
   "outputs": [],
   "source": [
    "import geopandas as gpd\n",
    "from IPython.display import display\n",
    "from pathlib import Path\n",
    "\n",
    "from ra2ce.ra2ce_handler import Ra2ceHandler\n",
    "\n",
    "_network_ini_name = \"network.ini\"\n",
    "_analysis_ini_name = \"analysis.ini\""
   ]
  },
  {
   "cell_type": "code",
   "execution_count": null,
   "metadata": {},
   "outputs": [],
   "source": [
    "root_dir = Path(r\"ra2ce\\docs\\examples\")"
   ]
  },
  {
   "cell_type": "code",
   "execution_count": null,
   "metadata": {},
   "outputs": [],
   "source": [
    "geojson = {\n",
    "  \"type\": \"FeatureCollection\",\n",
    "  \"features\": [\n",
    "    {\n",
    "      \"type\": \"Feature\",\n",
    "      \"properties\": {},\n",
    "      \"geometry\": {\n",
    "        \"coordinates\": [\n",
    "          [\n",
    "            [\n",
    "              4.36222481235572,\n",
    "              52.015394168383295\n",
    "            ],\n",
    "            [\n",
    "              4.358124229838182,\n",
    "              52.01889917331272\n",
    "            ],\n",
    "            [\n",
    "              4.352201166201297,\n",
    "              52.01754393730218\n",
    "            ],\n",
    "            [\n",
    "              4.350226811656086,\n",
    "              52.014833342110734\n",
    "            ],\n",
    "            [\n",
    "              4.359339217250778,\n",
    "              52.005064490358734\n",
    "            ],\n",
    "            [\n",
    "              4.369059116552307,\n",
    "              52.008944241801174\n",
    "            ],\n",
    "            [\n",
    "              4.369210989978171,\n",
    "              52.011141060331596\n",
    "            ],\n",
    "            [\n",
    "              4.36222481235572,\n",
    "              52.015394168383295\n",
    "            ]\n",
    "          ]\n",
    "        ],\n",
    "        \"type\": \"Polygon\"\n",
    "      }\n",
    "    }\n",
    "  ]\n",
    "}"
   ]
  },
  {
   "cell_type": "code",
   "execution_count": null,
   "metadata": {},
   "outputs": [],
   "source": [
    "gdf = gpd.GeoDataFrame.from_features(geojson, crs=4326)\n",
    "gdf.to_file(root_dir / \"test.geojson\", driver=\"GeoJSON\")"
   ]
  },
  {
   "cell_type": "code",
   "execution_count": null,
   "metadata": {},
   "outputs": [],
   "source": [
    "\n",
    "network_ini = root_dir / _network_ini_name\n",
    "assert network_ini.is_file()"
   ]
  },
  {
   "cell_type": "code",
   "execution_count": null,
   "metadata": {},
   "outputs": [],
   "source": [
    "handler = Ra2ceHandler(network=network_ini, analysis=None)\n",
    "handler.configure()"
   ]
  },
  {
   "cell_type": "code",
   "execution_count": null,
   "metadata": {},
   "outputs": [],
   "source": [
    "def visualise_map(file_names: list, file_paths: list, layer_colors=None):\n",
    "    # global root_dir\n",
    "    counter = 0\n",
    "    layers = []\n",
    "    if layer_colors is None:\n",
    "        layer_colors = ['black']\n",
    "    for file_name, file_path, layer_color in zip(file_names, file_paths, layer_colors):\n",
    "        full_file_path = Path(str(file_path) + rf'\\{file_name}.gpkg')\n",
    "        gdf = gpd.read_file(full_file_path)\n",
    "        if counter == 0:\n",
    "            my_map = gdf.explore(color=layer_color, tiles=\"CartoDB positron\")\n",
    "            layers.append(my_map)\n",
    "        else:\n",
    "            my_map = gdf.explore(m=layers[counter - 1], color=layer_color)\n",
    "            layers.append(my_map)\n",
    "        counter = + 1\n",
    "    display(my_map)"
   ]
  },
  {
   "cell_type": "code",
   "execution_count": null,
   "metadata": {},
   "outputs": [],
   "source": [
    "map_file_path = root_dir / r'static\\output_graph'\n",
    "map_file_name_edges = 'base_graph_edges'\n",
    "map_file_name_nodes = 'base_graph_nodes'\n",
    "saved_map_file_path = root_dir / r'output'\n",
    "\n",
    "visualise_map(file_names=[map_file_name_edges, map_file_name_nodes], file_paths=[map_file_path, map_file_path],\n",
    "              layer_colors=['black', 'green'])"
   ]
  }
 ],
 "metadata": {
  "language_info": {
   "name": "python"
  },
  "orig_nbformat": 4
 },
 "nbformat": 4,
 "nbformat_minor": 2
}
